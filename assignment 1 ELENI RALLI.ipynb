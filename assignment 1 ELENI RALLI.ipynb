{
 "cells": [
  {
   "cell_type": "markdown",
   "id": "2769d6a5",
   "metadata": {},
   "source": [
    "# <u>Exploring AirBnB in Athens</u> \n",
    "### Analytics Practicum I\n",
    "### Assignment I\n",
    "### Professor: Panos Louridas \n",
    "### <font color=\"blue\">***Eleni Ralli   (ID:f2822312)*** </font>    "
   ]
  },
  {
   "cell_type": "code",
   "execution_count": 1,
   "id": "9ca21f49",
   "metadata": {},
   "outputs": [],
   "source": [
    "import numpy as np\n",
    "import pandas as pd\n",
    "import matplotlib.pyplot as plt"
   ]
  },
  {
   "cell_type": "code",
   "execution_count": 2,
   "id": "fbb953d8",
   "metadata": {},
   "outputs": [
    {
     "data": {
      "text/plain": [
       "'C:\\\\Users\\\\eleni\\\\Analytics Practicum I -louridas\\\\assignment'"
      ]
     },
     "execution_count": 2,
     "metadata": {},
     "output_type": "execute_result"
    }
   ],
   "source": [
    "import os\n",
    "# Setting the current working directory\n",
    "relative_path = os.getcwd()\n",
    "relative_path"
   ]
  },
  {
   "cell_type": "markdown",
   "id": "f24ee6a8",
   "metadata": {},
   "source": [
    "#### For this assignment, we will explore the impact of the AirBnB platform in Athens using data from Inside AirBnB. After downloading the data for Athens, we will spend time getting familiar with it and then proceed to perform certain tasks."
   ]
  },
  {
   "cell_type": "code",
   "execution_count": 3,
   "id": "c70318d5",
   "metadata": {},
   "outputs": [],
   "source": [
    "# Φόρτωση των αρχείων δεδομένων\n",
    "listings_detailed_df = pd.read_csv(os.path.join(relative_path, 'listings.csv.gz'))\n",
    "calendar_detailed_df = pd.read_csv(os.path.join(relative_path, 'calendar.csv.gz'))\n",
    "reviews_detailed_df = pd.read_csv(os.path.join(relative_path, 'reviews.csv.gz'))\n",
    "listings_summary_df = pd.read_csv(os.path.join(relative_path, 'listings.csv'))\n",
    "reviews_summary_df = pd.read_csv(os.path.join(relative_path, 'reviews.csv'))\n",
    "neighbourhoods_df = pd.read_csv(os.path.join(relative_path, 'neighbourhoods.csv'))"
   ]
  },
  {
   "cell_type": "code",
   "execution_count": 4,
   "id": "5ab5b149",
   "metadata": {
    "scrolled": true
   },
   "outputs": [],
   "source": [
    "import geopandas as gpd  #!conda install -c conda-forge geopandas --yes   before import , install \n",
    "neighbourhoods_geojson_df = gpd.read_file(os.path.join(relative_path, 'neighbourhoods.geojson'))"
   ]
  },
  {
   "cell_type": "markdown",
   "id": "9cc25e70",
   "metadata": {},
   "source": [
    "#### Below, we will run some commands to inspect the contents of each DataFrame we created and get an initial understanding of the nature of our data."
   ]
  },
  {
   "cell_type": "markdown",
   "id": "f0dd7b1f",
   "metadata": {},
   "source": [
    "### <font color=\"blue\"> 1. For the listings_detailed_df : </font>  "
   ]
  },
  {
   "cell_type": "code",
   "execution_count": 5,
   "id": "675a9bc5",
   "metadata": {},
   "outputs": [
    {
     "data": {
      "text/plain": [
       "(13182, 75)"
      ]
     },
     "execution_count": 5,
     "metadata": {},
     "output_type": "execute_result"
    }
   ],
   "source": [
    "listings_detailed_df.shape"
   ]
  },
  {
   "cell_type": "code",
   "execution_count": 6,
   "id": "41a7fc95",
   "metadata": {},
   "outputs": [
    {
     "data": {
      "text/html": [
       "<div>\n",
       "<style scoped>\n",
       "    .dataframe tbody tr th:only-of-type {\n",
       "        vertical-align: middle;\n",
       "    }\n",
       "\n",
       "    .dataframe tbody tr th {\n",
       "        vertical-align: top;\n",
       "    }\n",
       "\n",
       "    .dataframe thead th {\n",
       "        text-align: right;\n",
       "    }\n",
       "</style>\n",
       "<table border=\"1\" class=\"dataframe\">\n",
       "  <thead>\n",
       "    <tr style=\"text-align: right;\">\n",
       "      <th></th>\n",
       "      <th>id</th>\n",
       "      <th>name</th>\n",
       "      <th>host_id</th>\n",
       "      <th>neighbourhood</th>\n",
       "      <th>latitude</th>\n",
       "      <th>longitude</th>\n",
       "      <th>room_type</th>\n",
       "      <th>price</th>\n",
       "      <th>minimum_nights</th>\n",
       "      <th>number_of_reviews</th>\n",
       "      <th>reviews_per_month</th>\n",
       "    </tr>\n",
       "  </thead>\n",
       "  <tbody>\n",
       "    <tr>\n",
       "      <th>0</th>\n",
       "      <td>40042598</td>\n",
       "      <td>Rental unit in Athina · 1 bedroom · 1 bed · 1 ...</td>\n",
       "      <td>158884228</td>\n",
       "      <td>NaN</td>\n",
       "      <td>37.994430</td>\n",
       "      <td>23.736880</td>\n",
       "      <td>Private room</td>\n",
       "      <td>$20.00</td>\n",
       "      <td>1</td>\n",
       "      <td>0</td>\n",
       "      <td>NaN</td>\n",
       "    </tr>\n",
       "    <tr>\n",
       "      <th>1</th>\n",
       "      <td>39069205</td>\n",
       "      <td>Rental unit in Athina · 2 bedrooms · 2 beds · ...</td>\n",
       "      <td>299446668</td>\n",
       "      <td>Athina, Greece</td>\n",
       "      <td>37.979190</td>\n",
       "      <td>23.745320</td>\n",
       "      <td>Entire home/apt</td>\n",
       "      <td>$293.00</td>\n",
       "      <td>2</td>\n",
       "      <td>0</td>\n",
       "      <td>NaN</td>\n",
       "    </tr>\n",
       "    <tr>\n",
       "      <th>2</th>\n",
       "      <td>653274914834812593</td>\n",
       "      <td>Condo in Athina · ★5.0 · 1 bedroom · 2 beds · ...</td>\n",
       "      <td>272702874</td>\n",
       "      <td>Athina, Greece</td>\n",
       "      <td>37.966000</td>\n",
       "      <td>23.727170</td>\n",
       "      <td>Entire home/apt</td>\n",
       "      <td>$60.00</td>\n",
       "      <td>1</td>\n",
       "      <td>47</td>\n",
       "      <td>2.68</td>\n",
       "    </tr>\n",
       "    <tr>\n",
       "      <th>3</th>\n",
       "      <td>54361219</td>\n",
       "      <td>Rental unit in Athina · ★4.75 · 1 bedroom · 1 ...</td>\n",
       "      <td>433120301</td>\n",
       "      <td>NaN</td>\n",
       "      <td>37.975890</td>\n",
       "      <td>23.732750</td>\n",
       "      <td>Entire home/apt</td>\n",
       "      <td>$93.00</td>\n",
       "      <td>1</td>\n",
       "      <td>40</td>\n",
       "      <td>1.83</td>\n",
       "    </tr>\n",
       "    <tr>\n",
       "      <th>4</th>\n",
       "      <td>51258073</td>\n",
       "      <td>Rental unit in Athina · ★5.0 · Studio · 3 beds...</td>\n",
       "      <td>199937958</td>\n",
       "      <td>NaN</td>\n",
       "      <td>37.979220</td>\n",
       "      <td>23.724700</td>\n",
       "      <td>Entire home/apt</td>\n",
       "      <td>$119.00</td>\n",
       "      <td>2</td>\n",
       "      <td>9</td>\n",
       "      <td>0.31</td>\n",
       "    </tr>\n",
       "    <tr>\n",
       "      <th>...</th>\n",
       "      <td>...</td>\n",
       "      <td>...</td>\n",
       "      <td>...</td>\n",
       "      <td>...</td>\n",
       "      <td>...</td>\n",
       "      <td>...</td>\n",
       "      <td>...</td>\n",
       "      <td>...</td>\n",
       "      <td>...</td>\n",
       "      <td>...</td>\n",
       "      <td>...</td>\n",
       "    </tr>\n",
       "    <tr>\n",
       "      <th>13177</th>\n",
       "      <td>36905271</td>\n",
       "      <td>Boutique hotel in Athina · 1 bedroom · 1 bed ·...</td>\n",
       "      <td>48654793</td>\n",
       "      <td>Athina, Greece</td>\n",
       "      <td>37.976180</td>\n",
       "      <td>23.729610</td>\n",
       "      <td>Hotel room</td>\n",
       "      <td>$151.00</td>\n",
       "      <td>1</td>\n",
       "      <td>0</td>\n",
       "      <td>NaN</td>\n",
       "    </tr>\n",
       "    <tr>\n",
       "      <th>13178</th>\n",
       "      <td>21695325</td>\n",
       "      <td>Loft in Athens · ★4.73 · 1 bedroom · 1 bed · 1...</td>\n",
       "      <td>41042574</td>\n",
       "      <td>Athens, Attica, Greece</td>\n",
       "      <td>37.975580</td>\n",
       "      <td>23.731610</td>\n",
       "      <td>Entire home/apt</td>\n",
       "      <td>$54.00</td>\n",
       "      <td>1</td>\n",
       "      <td>168</td>\n",
       "      <td>2.29</td>\n",
       "    </tr>\n",
       "    <tr>\n",
       "      <th>13179</th>\n",
       "      <td>651256549439046547</td>\n",
       "      <td>Rental unit in Athina · 1 bedroom · 2 beds · 1...</td>\n",
       "      <td>67295649</td>\n",
       "      <td>Athina, Greece</td>\n",
       "      <td>37.976860</td>\n",
       "      <td>23.728940</td>\n",
       "      <td>Entire home/apt</td>\n",
       "      <td>$214.00</td>\n",
       "      <td>1</td>\n",
       "      <td>0</td>\n",
       "      <td>NaN</td>\n",
       "    </tr>\n",
       "    <tr>\n",
       "      <th>13180</th>\n",
       "      <td>736573771699647347</td>\n",
       "      <td>Condo in Athina · ★5.0 · 1 bedroom · 1 bed · 1...</td>\n",
       "      <td>443865000</td>\n",
       "      <td>Athina, Greece</td>\n",
       "      <td>37.974289</td>\n",
       "      <td>23.732126</td>\n",
       "      <td>Entire home/apt</td>\n",
       "      <td>$60.00</td>\n",
       "      <td>2</td>\n",
       "      <td>4</td>\n",
       "      <td>0.28</td>\n",
       "    </tr>\n",
       "    <tr>\n",
       "      <th>13181</th>\n",
       "      <td>502879</td>\n",
       "      <td>Rental unit in Athens · ★4.78 · 1 bedroom · 2 ...</td>\n",
       "      <td>1418201</td>\n",
       "      <td>Athens, Attica, Greece</td>\n",
       "      <td>37.980200</td>\n",
       "      <td>23.723570</td>\n",
       "      <td>Entire home/apt</td>\n",
       "      <td>$72.00</td>\n",
       "      <td>2</td>\n",
       "      <td>32</td>\n",
       "      <td>0.25</td>\n",
       "    </tr>\n",
       "  </tbody>\n",
       "</table>\n",
       "<p>13182 rows × 11 columns</p>\n",
       "</div>"
      ],
      "text/plain": [
       "                       id                                               name  \\\n",
       "0                40042598  Rental unit in Athina · 1 bedroom · 1 bed · 1 ...   \n",
       "1                39069205  Rental unit in Athina · 2 bedrooms · 2 beds · ...   \n",
       "2      653274914834812593  Condo in Athina · ★5.0 · 1 bedroom · 2 beds · ...   \n",
       "3                54361219  Rental unit in Athina · ★4.75 · 1 bedroom · 1 ...   \n",
       "4                51258073  Rental unit in Athina · ★5.0 · Studio · 3 beds...   \n",
       "...                   ...                                                ...   \n",
       "13177            36905271  Boutique hotel in Athina · 1 bedroom · 1 bed ·...   \n",
       "13178            21695325  Loft in Athens · ★4.73 · 1 bedroom · 1 bed · 1...   \n",
       "13179  651256549439046547  Rental unit in Athina · 1 bedroom · 2 beds · 1...   \n",
       "13180  736573771699647347  Condo in Athina · ★5.0 · 1 bedroom · 1 bed · 1...   \n",
       "13181              502879  Rental unit in Athens · ★4.78 · 1 bedroom · 2 ...   \n",
       "\n",
       "         host_id           neighbourhood   latitude  longitude  \\\n",
       "0      158884228                     NaN  37.994430  23.736880   \n",
       "1      299446668          Athina, Greece  37.979190  23.745320   \n",
       "2      272702874          Athina, Greece  37.966000  23.727170   \n",
       "3      433120301                     NaN  37.975890  23.732750   \n",
       "4      199937958                     NaN  37.979220  23.724700   \n",
       "...          ...                     ...        ...        ...   \n",
       "13177   48654793          Athina, Greece  37.976180  23.729610   \n",
       "13178   41042574  Athens, Attica, Greece  37.975580  23.731610   \n",
       "13179   67295649          Athina, Greece  37.976860  23.728940   \n",
       "13180  443865000          Athina, Greece  37.974289  23.732126   \n",
       "13181    1418201  Athens, Attica, Greece  37.980200  23.723570   \n",
       "\n",
       "             room_type    price  minimum_nights  number_of_reviews  \\\n",
       "0         Private room   $20.00               1                  0   \n",
       "1      Entire home/apt  $293.00               2                  0   \n",
       "2      Entire home/apt   $60.00               1                 47   \n",
       "3      Entire home/apt   $93.00               1                 40   \n",
       "4      Entire home/apt  $119.00               2                  9   \n",
       "...                ...      ...             ...                ...   \n",
       "13177       Hotel room  $151.00               1                  0   \n",
       "13178  Entire home/apt   $54.00               1                168   \n",
       "13179  Entire home/apt  $214.00               1                  0   \n",
       "13180  Entire home/apt   $60.00               2                  4   \n",
       "13181  Entire home/apt   $72.00               2                 32   \n",
       "\n",
       "       reviews_per_month  \n",
       "0                    NaN  \n",
       "1                    NaN  \n",
       "2                   2.68  \n",
       "3                   1.83  \n",
       "4                   0.31  \n",
       "...                  ...  \n",
       "13177                NaN  \n",
       "13178               2.29  \n",
       "13179                NaN  \n",
       "13180               0.28  \n",
       "13181               0.25  \n",
       "\n",
       "[13182 rows x 11 columns]"
      ]
     },
     "execution_count": 6,
     "metadata": {},
     "output_type": "execute_result"
    }
   ],
   "source": [
    "listings_detailed_df[['id', 'name', 'host_id', 'neighbourhood', 'latitude', 'longitude', 'room_type', 'price', 'minimum_nights', 'number_of_reviews', 'reviews_per_month']]"
   ]
  },
  {
   "cell_type": "markdown",
   "id": "e9530870",
   "metadata": {},
   "source": [
    "# "
   ]
  },
  {
   "cell_type": "markdown",
   "id": "46f7d994",
   "metadata": {},
   "source": [
    "\n",
    "\n",
    "### <font color=\"blue\"> 2. For the calendar_detailed_df : </font>\n"
   ]
  },
  {
   "cell_type": "code",
   "execution_count": 7,
   "id": "cffd38db",
   "metadata": {},
   "outputs": [
    {
     "data": {
      "text/plain": [
       "Index(['listing_id', 'date', 'available', 'price', 'adjusted_price',\n",
       "       'minimum_nights', 'maximum_nights'],\n",
       "      dtype='object')"
      ]
     },
     "execution_count": 7,
     "metadata": {},
     "output_type": "execute_result"
    }
   ],
   "source": [
    "calendar_detailed_df.columns"
   ]
  },
  {
   "cell_type": "code",
   "execution_count": 8,
   "id": "7c805db0",
   "metadata": {},
   "outputs": [
    {
     "name": "stdout",
     "output_type": "stream",
     "text": [
      "                  listing_id        date available    price\n",
      "0                      10595  2023-12-25         f  $180.00\n",
      "1                      10595  2023-12-26         f  $180.00\n",
      "2                      10595  2023-12-27         f  $180.00\n",
      "3                      10595  2023-12-28         f  $180.00\n",
      "4                      10595  2023-12-29         f  $180.00\n",
      "...                      ...         ...       ...      ...\n",
      "4812167  1052831358961926209  2024-12-19         f   $90.00\n",
      "4812168  1052831358961926209  2024-12-20         f   $90.00\n",
      "4812169  1052831358961926209  2024-12-21         f   $90.00\n",
      "4812170  1052831358961926209  2024-12-22         f   $90.00\n",
      "4812171  1052831358961926209  2024-12-23         f   $90.00\n",
      "\n",
      "[4812172 rows x 4 columns]\n"
     ]
    }
   ],
   "source": [
    "print(calendar_detailed_df[['listing_id', 'date', 'available', 'price']])"
   ]
  },
  {
   "cell_type": "markdown",
   "id": "87727b7b",
   "metadata": {},
   "source": [
    "#   "
   ]
  },
  {
   "cell_type": "markdown",
   "id": "bfc96c67",
   "metadata": {},
   "source": [
    "\n",
    "### <font color=\"blue\"> 3. For the reviews_detailed_df : </font>\n"
   ]
  },
  {
   "cell_type": "code",
   "execution_count": 9,
   "id": "c52298f7",
   "metadata": {},
   "outputs": [
    {
     "data": {
      "text/plain": [
       "Index(['listing_id', 'id', 'date', 'reviewer_id', 'reviewer_name', 'comments'], dtype='object')"
      ]
     },
     "execution_count": 9,
     "metadata": {},
     "output_type": "execute_result"
    }
   ],
   "source": [
    "reviews_detailed_df.columns"
   ]
  },
  {
   "cell_type": "code",
   "execution_count": 10,
   "id": "cef10cc7",
   "metadata": {},
   "outputs": [
    {
     "data": {
      "text/html": [
       "<div>\n",
       "<style scoped>\n",
       "    .dataframe tbody tr th:only-of-type {\n",
       "        vertical-align: middle;\n",
       "    }\n",
       "\n",
       "    .dataframe tbody tr th {\n",
       "        vertical-align: top;\n",
       "    }\n",
       "\n",
       "    .dataframe thead th {\n",
       "        text-align: right;\n",
       "    }\n",
       "</style>\n",
       "<table border=\"1\" class=\"dataframe\">\n",
       "  <thead>\n",
       "    <tr style=\"text-align: right;\">\n",
       "      <th></th>\n",
       "      <th>listing_id</th>\n",
       "      <th>id</th>\n",
       "      <th>date</th>\n",
       "      <th>comments</th>\n",
       "    </tr>\n",
       "  </thead>\n",
       "  <tbody>\n",
       "    <tr>\n",
       "      <th>0</th>\n",
       "      <td>10595</td>\n",
       "      <td>271535</td>\n",
       "      <td>2011-05-20</td>\n",
       "      <td>The apartment was wonderful, fully equiped, be...</td>\n",
       "    </tr>\n",
       "    <tr>\n",
       "      <th>1</th>\n",
       "      <td>10595</td>\n",
       "      <td>1994237</td>\n",
       "      <td>2012-08-15</td>\n",
       "      <td>Emmanouil was an excellent host. He provided u...</td>\n",
       "    </tr>\n",
       "    <tr>\n",
       "      <th>2</th>\n",
       "      <td>10595</td>\n",
       "      <td>4678609</td>\n",
       "      <td>2013-05-20</td>\n",
       "      <td>Manos is a very good host, he is kind and help...</td>\n",
       "    </tr>\n",
       "    <tr>\n",
       "      <th>3</th>\n",
       "      <td>10595</td>\n",
       "      <td>12502994</td>\n",
       "      <td>2014-05-04</td>\n",
       "      <td>Our stay in Emmanouil home was comfortable, qu...</td>\n",
       "    </tr>\n",
       "    <tr>\n",
       "      <th>4</th>\n",
       "      <td>10595</td>\n",
       "      <td>19482948</td>\n",
       "      <td>2014-09-13</td>\n",
       "      <td>Fantastic accommodation very well located to v...</td>\n",
       "    </tr>\n",
       "    <tr>\n",
       "      <th>...</th>\n",
       "      <td>...</td>\n",
       "      <td>...</td>\n",
       "      <td>...</td>\n",
       "      <td>...</td>\n",
       "    </tr>\n",
       "    <tr>\n",
       "      <th>652120</th>\n",
       "      <td>1027501913924137512</td>\n",
       "      <td>1033154620423406499</td>\n",
       "      <td>2023-11-26</td>\n",
       "      <td>Τρομερός χώρος σε πολύ προσιτή τιμή στο κέντρο...</td>\n",
       "    </tr>\n",
       "    <tr>\n",
       "      <th>652121</th>\n",
       "      <td>1027501913924137512</td>\n",
       "      <td>1043378550797123889</td>\n",
       "      <td>2023-12-10</td>\n",
       "      <td>Το κατάλυμα βρίσκεται σε ιδανική περιοχή, πραγ...</td>\n",
       "    </tr>\n",
       "    <tr>\n",
       "      <th>652122</th>\n",
       "      <td>1028286259867636458</td>\n",
       "      <td>1031058218696915023</td>\n",
       "      <td>2023-11-23</td>\n",
       "      <td>This is the most premium  AirBnb type property...</td>\n",
       "    </tr>\n",
       "    <tr>\n",
       "      <th>652123</th>\n",
       "      <td>1028286259867636458</td>\n",
       "      <td>1031789747353084273</td>\n",
       "      <td>2023-11-24</td>\n",
       "      <td>An excellent well decorated apartment, in a gr...</td>\n",
       "    </tr>\n",
       "    <tr>\n",
       "      <th>652124</th>\n",
       "      <td>1028286259867636458</td>\n",
       "      <td>1049117914747560452</td>\n",
       "      <td>2023-12-18</td>\n",
       "      <td>Excellent hospitality, very kind and responsiv...</td>\n",
       "    </tr>\n",
       "  </tbody>\n",
       "</table>\n",
       "<p>652125 rows × 4 columns</p>\n",
       "</div>"
      ],
      "text/plain": [
       "                 listing_id                   id        date  \\\n",
       "0                     10595               271535  2011-05-20   \n",
       "1                     10595              1994237  2012-08-15   \n",
       "2                     10595              4678609  2013-05-20   \n",
       "3                     10595             12502994  2014-05-04   \n",
       "4                     10595             19482948  2014-09-13   \n",
       "...                     ...                  ...         ...   \n",
       "652120  1027501913924137512  1033154620423406499  2023-11-26   \n",
       "652121  1027501913924137512  1043378550797123889  2023-12-10   \n",
       "652122  1028286259867636458  1031058218696915023  2023-11-23   \n",
       "652123  1028286259867636458  1031789747353084273  2023-11-24   \n",
       "652124  1028286259867636458  1049117914747560452  2023-12-18   \n",
       "\n",
       "                                                 comments  \n",
       "0       The apartment was wonderful, fully equiped, be...  \n",
       "1       Emmanouil was an excellent host. He provided u...  \n",
       "2       Manos is a very good host, he is kind and help...  \n",
       "3       Our stay in Emmanouil home was comfortable, qu...  \n",
       "4       Fantastic accommodation very well located to v...  \n",
       "...                                                   ...  \n",
       "652120  Τρομερός χώρος σε πολύ προσιτή τιμή στο κέντρο...  \n",
       "652121  Το κατάλυμα βρίσκεται σε ιδανική περιοχή, πραγ...  \n",
       "652122  This is the most premium  AirBnb type property...  \n",
       "652123  An excellent well decorated apartment, in a gr...  \n",
       "652124  Excellent hospitality, very kind and responsiv...  \n",
       "\n",
       "[652125 rows x 4 columns]"
      ]
     },
     "execution_count": 10,
     "metadata": {},
     "output_type": "execute_result"
    }
   ],
   "source": [
    "reviews_detailed_df[['listing_id', 'id', 'date', 'comments']]"
   ]
  },
  {
   "cell_type": "markdown",
   "id": "861b705c",
   "metadata": {},
   "source": [
    "# "
   ]
  },
  {
   "cell_type": "markdown",
   "id": "77481001",
   "metadata": {},
   "source": [
    "### <font color=\"blue\"> 4. For the listings_summary_df : </font>\n"
   ]
  },
  {
   "cell_type": "code",
   "execution_count": 11,
   "id": "60ae5809",
   "metadata": {},
   "outputs": [
    {
     "data": {
      "text/html": [
       "<div>\n",
       "<style scoped>\n",
       "    .dataframe tbody tr th:only-of-type {\n",
       "        vertical-align: middle;\n",
       "    }\n",
       "\n",
       "    .dataframe tbody tr th {\n",
       "        vertical-align: top;\n",
       "    }\n",
       "\n",
       "    .dataframe thead th {\n",
       "        text-align: right;\n",
       "    }\n",
       "</style>\n",
       "<table border=\"1\" class=\"dataframe\">\n",
       "  <thead>\n",
       "    <tr style=\"text-align: right;\">\n",
       "      <th></th>\n",
       "      <th>id</th>\n",
       "      <th>name</th>\n",
       "      <th>host_id</th>\n",
       "      <th>neighbourhood</th>\n",
       "      <th>room_type</th>\n",
       "      <th>price</th>\n",
       "      <th>minimum_nights</th>\n",
       "      <th>number_of_reviews</th>\n",
       "      <th>reviews_per_month</th>\n",
       "      <th>calculated_host_listings_count</th>\n",
       "      <th>availability_365</th>\n",
       "    </tr>\n",
       "  </thead>\n",
       "  <tbody>\n",
       "    <tr>\n",
       "      <th>0</th>\n",
       "      <td>10595</td>\n",
       "      <td>Condo in Athens · ★4.84 · 3 bedrooms · 5 beds ...</td>\n",
       "      <td>37177</td>\n",
       "      <td>ΑΜΠΕΛΟΚΗΠΟΙ</td>\n",
       "      <td>Entire home/apt</td>\n",
       "      <td>93.0</td>\n",
       "      <td>1</td>\n",
       "      <td>45</td>\n",
       "      <td>0.29</td>\n",
       "      <td>7</td>\n",
       "      <td>351</td>\n",
       "    </tr>\n",
       "    <tr>\n",
       "      <th>1</th>\n",
       "      <td>10990</td>\n",
       "      <td>Rental unit in Athens · ★4.81 · 1 bedroom · 1 ...</td>\n",
       "      <td>37177</td>\n",
       "      <td>ΑΜΠΕΛΟΚΗΠΟΙ</td>\n",
       "      <td>Entire home/apt</td>\n",
       "      <td>41.0</td>\n",
       "      <td>1</td>\n",
       "      <td>71</td>\n",
       "      <td>0.52</td>\n",
       "      <td>7</td>\n",
       "      <td>343</td>\n",
       "    </tr>\n",
       "    <tr>\n",
       "      <th>2</th>\n",
       "      <td>10993</td>\n",
       "      <td>Rental unit in Athens · ★4.83 · Studio · 2 bed...</td>\n",
       "      <td>37177</td>\n",
       "      <td>ΑΜΠΕΛΟΚΗΠΟΙ</td>\n",
       "      <td>Entire home/apt</td>\n",
       "      <td>42.0</td>\n",
       "      <td>1</td>\n",
       "      <td>93</td>\n",
       "      <td>0.68</td>\n",
       "      <td>7</td>\n",
       "      <td>353</td>\n",
       "    </tr>\n",
       "    <tr>\n",
       "      <th>3</th>\n",
       "      <td>10995</td>\n",
       "      <td>Rental unit in Athens · ★4.80 · 1 bedroom · 2 ...</td>\n",
       "      <td>37177</td>\n",
       "      <td>ΑΜΠΕΛΟΚΗΠΟΙ</td>\n",
       "      <td>Entire home/apt</td>\n",
       "      <td>48.0</td>\n",
       "      <td>1</td>\n",
       "      <td>30</td>\n",
       "      <td>0.18</td>\n",
       "      <td>7</td>\n",
       "      <td>358</td>\n",
       "    </tr>\n",
       "    <tr>\n",
       "      <th>4</th>\n",
       "      <td>27262</td>\n",
       "      <td>Rental unit in Athens · ★4.83 · 1 bedroom · 1 ...</td>\n",
       "      <td>37177</td>\n",
       "      <td>ΑΜΠΕΛΟΚΗΠΟΙ</td>\n",
       "      <td>Entire home/apt</td>\n",
       "      <td>48.0</td>\n",
       "      <td>1</td>\n",
       "      <td>23</td>\n",
       "      <td>0.17</td>\n",
       "      <td>7</td>\n",
       "      <td>360</td>\n",
       "    </tr>\n",
       "    <tr>\n",
       "      <th>...</th>\n",
       "      <td>...</td>\n",
       "      <td>...</td>\n",
       "      <td>...</td>\n",
       "      <td>...</td>\n",
       "      <td>...</td>\n",
       "      <td>...</td>\n",
       "      <td>...</td>\n",
       "      <td>...</td>\n",
       "      <td>...</td>\n",
       "      <td>...</td>\n",
       "      <td>...</td>\n",
       "    </tr>\n",
       "    <tr>\n",
       "      <th>13177</th>\n",
       "      <td>1041981160570257250</td>\n",
       "      <td>Condo in Athina · ★New · 1 bedroom · 2 beds · ...</td>\n",
       "      <td>550073856</td>\n",
       "      <td>ΝΕΟΣ ΚΟΣΜΟΣ</td>\n",
       "      <td>Entire home/apt</td>\n",
       "      <td>39.0</td>\n",
       "      <td>1</td>\n",
       "      <td>0</td>\n",
       "      <td>NaN</td>\n",
       "      <td>1</td>\n",
       "      <td>241</td>\n",
       "    </tr>\n",
       "    <tr>\n",
       "      <th>13178</th>\n",
       "      <td>1041986166054910435</td>\n",
       "      <td>Rental unit in Athina · ★New · 1 bedroom · 2 b...</td>\n",
       "      <td>28624357</td>\n",
       "      <td>ΝΕΟΣ ΚΟΣΜΟΣ</td>\n",
       "      <td>Entire home/apt</td>\n",
       "      <td>56.0</td>\n",
       "      <td>1</td>\n",
       "      <td>0</td>\n",
       "      <td>NaN</td>\n",
       "      <td>2</td>\n",
       "      <td>127</td>\n",
       "    </tr>\n",
       "    <tr>\n",
       "      <th>13179</th>\n",
       "      <td>1041995940594177341</td>\n",
       "      <td>Rental unit in Athina · ★New · 2 bedrooms · 2 ...</td>\n",
       "      <td>520807652</td>\n",
       "      <td>ΚΟΥΚΑΚΙ-ΜΑΚΡΥΓΙΑΝΝΗ</td>\n",
       "      <td>Entire home/apt</td>\n",
       "      <td>57.0</td>\n",
       "      <td>2</td>\n",
       "      <td>0</td>\n",
       "      <td>NaN</td>\n",
       "      <td>18</td>\n",
       "      <td>264</td>\n",
       "    </tr>\n",
       "    <tr>\n",
       "      <th>13180</th>\n",
       "      <td>1042000846383303032</td>\n",
       "      <td>Rental unit in Athina · ★New · 2 bedrooms · 3 ...</td>\n",
       "      <td>180153653</td>\n",
       "      <td>ΚΟΛΩΝΑΚΙ</td>\n",
       "      <td>Entire home/apt</td>\n",
       "      <td>120.0</td>\n",
       "      <td>1</td>\n",
       "      <td>0</td>\n",
       "      <td>NaN</td>\n",
       "      <td>1</td>\n",
       "      <td>264</td>\n",
       "    </tr>\n",
       "    <tr>\n",
       "      <th>13181</th>\n",
       "      <td>1042070861419155320</td>\n",
       "      <td>Rental unit in Athina · ★New · 1 bedroom · 1 b...</td>\n",
       "      <td>549422261</td>\n",
       "      <td>ΠΕΤΡΑΛΩΝΑ</td>\n",
       "      <td>Entire home/apt</td>\n",
       "      <td>65.0</td>\n",
       "      <td>2</td>\n",
       "      <td>0</td>\n",
       "      <td>NaN</td>\n",
       "      <td>4</td>\n",
       "      <td>310</td>\n",
       "    </tr>\n",
       "  </tbody>\n",
       "</table>\n",
       "<p>13182 rows × 11 columns</p>\n",
       "</div>"
      ],
      "text/plain": [
       "                        id                                               name  \\\n",
       "0                    10595  Condo in Athens · ★4.84 · 3 bedrooms · 5 beds ...   \n",
       "1                    10990  Rental unit in Athens · ★4.81 · 1 bedroom · 1 ...   \n",
       "2                    10993  Rental unit in Athens · ★4.83 · Studio · 2 bed...   \n",
       "3                    10995  Rental unit in Athens · ★4.80 · 1 bedroom · 2 ...   \n",
       "4                    27262  Rental unit in Athens · ★4.83 · 1 bedroom · 1 ...   \n",
       "...                    ...                                                ...   \n",
       "13177  1041981160570257250  Condo in Athina · ★New · 1 bedroom · 2 beds · ...   \n",
       "13178  1041986166054910435  Rental unit in Athina · ★New · 1 bedroom · 2 b...   \n",
       "13179  1041995940594177341  Rental unit in Athina · ★New · 2 bedrooms · 2 ...   \n",
       "13180  1042000846383303032  Rental unit in Athina · ★New · 2 bedrooms · 3 ...   \n",
       "13181  1042070861419155320  Rental unit in Athina · ★New · 1 bedroom · 1 b...   \n",
       "\n",
       "         host_id        neighbourhood        room_type  price  minimum_nights  \\\n",
       "0          37177          ΑΜΠΕΛΟΚΗΠΟΙ  Entire home/apt   93.0               1   \n",
       "1          37177          ΑΜΠΕΛΟΚΗΠΟΙ  Entire home/apt   41.0               1   \n",
       "2          37177          ΑΜΠΕΛΟΚΗΠΟΙ  Entire home/apt   42.0               1   \n",
       "3          37177          ΑΜΠΕΛΟΚΗΠΟΙ  Entire home/apt   48.0               1   \n",
       "4          37177          ΑΜΠΕΛΟΚΗΠΟΙ  Entire home/apt   48.0               1   \n",
       "...          ...                  ...              ...    ...             ...   \n",
       "13177  550073856          ΝΕΟΣ ΚΟΣΜΟΣ  Entire home/apt   39.0               1   \n",
       "13178   28624357          ΝΕΟΣ ΚΟΣΜΟΣ  Entire home/apt   56.0               1   \n",
       "13179  520807652  ΚΟΥΚΑΚΙ-ΜΑΚΡΥΓΙΑΝΝΗ  Entire home/apt   57.0               2   \n",
       "13180  180153653             ΚΟΛΩΝΑΚΙ  Entire home/apt  120.0               1   \n",
       "13181  549422261            ΠΕΤΡΑΛΩΝΑ  Entire home/apt   65.0               2   \n",
       "\n",
       "       number_of_reviews  reviews_per_month  calculated_host_listings_count  \\\n",
       "0                     45               0.29                               7   \n",
       "1                     71               0.52                               7   \n",
       "2                     93               0.68                               7   \n",
       "3                     30               0.18                               7   \n",
       "4                     23               0.17                               7   \n",
       "...                  ...                ...                             ...   \n",
       "13177                  0                NaN                               1   \n",
       "13178                  0                NaN                               2   \n",
       "13179                  0                NaN                              18   \n",
       "13180                  0                NaN                               1   \n",
       "13181                  0                NaN                               4   \n",
       "\n",
       "       availability_365  \n",
       "0                   351  \n",
       "1                   343  \n",
       "2                   353  \n",
       "3                   358  \n",
       "4                   360  \n",
       "...                 ...  \n",
       "13177               241  \n",
       "13178               127  \n",
       "13179               264  \n",
       "13180               264  \n",
       "13181               310  \n",
       "\n",
       "[13182 rows x 11 columns]"
      ]
     },
     "execution_count": 11,
     "metadata": {},
     "output_type": "execute_result"
    }
   ],
   "source": [
    "listings_summary_df[['id', 'name', 'host_id', 'neighbourhood', 'room_type', 'price', 'minimum_nights', 'number_of_reviews', 'reviews_per_month', 'calculated_host_listings_count', 'availability_365']]"
   ]
  },
  {
   "cell_type": "markdown",
   "id": "1bca18e8",
   "metadata": {},
   "source": [
    "# "
   ]
  },
  {
   "cell_type": "markdown",
   "id": "bd86d281",
   "metadata": {},
   "source": [
    "### <font color=\"blue\"> 5. For the reviews_summary_df : </font>"
   ]
  },
  {
   "cell_type": "code",
   "execution_count": 12,
   "id": "2ffa4b00",
   "metadata": {},
   "outputs": [
    {
     "name": "stdout",
     "output_type": "stream",
     "text": [
      "                 listing_id        date\n",
      "0                     10595  2011-05-20\n",
      "1                     10595  2012-08-15\n",
      "2                     10595  2013-05-20\n",
      "3                     10595  2014-05-04\n",
      "4                     10595  2014-09-13\n",
      "...                     ...         ...\n",
      "652120  1044271259303452816  2023-12-22\n",
      "652121  1044837847724609002  2023-12-22\n",
      "652122  1044854083716723786  2023-12-20\n",
      "652123  1045025263246273195  2023-12-25\n",
      "652124  1045798883283175139  2023-12-25\n",
      "\n",
      "[652125 rows x 2 columns]\n"
     ]
    }
   ],
   "source": [
    "print(reviews_summary_df[['listing_id', 'date']])\n"
   ]
  },
  {
   "cell_type": "markdown",
   "id": "52d4cecc",
   "metadata": {},
   "source": [
    "# "
   ]
  },
  {
   "cell_type": "markdown",
   "id": "b7d1ef21",
   "metadata": {},
   "source": [
    "### <font color=\"blue\"> 6. For the neighbourhoods_df : </font>"
   ]
  },
  {
   "cell_type": "code",
   "execution_count": 13,
   "id": "0613e0a3",
   "metadata": {},
   "outputs": [
    {
     "data": {
      "text/plain": [
       "(45, 2)"
      ]
     },
     "execution_count": 13,
     "metadata": {},
     "output_type": "execute_result"
    }
   ],
   "source": [
    "neighbourhoods_df.shape"
   ]
  },
  {
   "cell_type": "code",
   "execution_count": 14,
   "id": "f643b5f7",
   "metadata": {},
   "outputs": [
    {
     "name": "stdout",
     "output_type": "stream",
     "text": [
      "                       neighbourhood\n",
      "0                     1Ο ΝΕΚΡΟΤΑΦΕΙΟ\n",
      "1                   ΑΓΙΟΣ ΕΛΕΥΘΕΡΙΟΣ\n",
      "2   ΑΓΙΟΣ ΚΩΝΣΤΑΝΤΙΝΟΣ-ΠΛΑΤΕΙΑ ΒΑΘΗΣ\n",
      "3                     ΑΓΙΟΣ ΝΙΚΟΛΑΟΣ\n",
      "4                  ΑΚΑΔΗΜΙΑ ΠΛΑΤΩΝΟΣ\n",
      "5                           ΑΚΡΟΠΟΛΗ\n",
      "6                        ΑΜΠΕΛΟΚΗΠΟΙ\n",
      "7                         ΑΝΩ ΚΥΨΕΛΗ\n",
      "8                        ΑΝΩ ΠΑΤΗΣΙΑ\n",
      "9                          ΒΟΤΑΝΙΚΟΣ\n",
      "10                             ΓΚΑΖΙ\n",
      "11                             ΓΚΥΖΗ\n",
      "12                             ΓΟΥΒΑ\n",
      "13                             ΓΟΥΔΙ\n",
      "14                       ΕΛΛΗΝΟΡΩΣΩΝ\n",
      "15            ΕΜΠΟΡΙΚΟ ΤΡΙΓΩΝΟ-ΠΛΑΚΑ\n",
      "16                           ΖΑΠΠΕΙΟ\n",
      "17                            ΘΗΣΕΙΟ\n",
      "18                            ΙΛΙΣΙΑ\n",
      "19                        ΚΕΡΑΜΕΙΚΟΣ\n",
      "20                        ΚΟΛΟΚΥΝΘΟΥ\n",
      "21                          ΚΟΛΩΝΑΚΙ\n",
      "22                           ΚΟΛΩΝΟΣ\n",
      "23               ΚΟΥΚΑΚΙ-ΜΑΚΡΥΓΙΑΝΝΗ\n",
      "24                            ΚΥΨΕΛΗ\n",
      "25                        ΛΥΚΑΒΗΤΤΟΣ\n",
      "26          ΜΟΥΣΕΙΟ-ΕΞΑΡΧΕΙΑ-ΝΕΑΠΟΛΗ\n",
      "27                        ΝΕΑ ΚΥΨΕΛΗ\n",
      "28                       ΝΕΟΣ ΚΟΣΜΟΣ\n",
      "29                           ΝΙΡΒΑΝΑ\n",
      "30                          ΠΑΓΚΡΑΤΙ\n",
      "31                           ΠΑΤΗΣΙΑ\n",
      "32                       ΠΕΔΙΟ ΑΡΕΩΣ\n",
      "33                         ΠΕΝΤΑΓΩΝΟ\n",
      "34                         ΠΕΤΡΑΛΩΝΑ\n",
      "35                  ΠΛΑΤΕΙΑ ΑΜΕΡΙΚΗΣ\n",
      "36                   ΠΛΑΤΕΙΑ ΑΤΤΙΚΗΣ\n",
      "37                          ΠΟΛΥΓΩΝΟ\n",
      "38                          ΠΡΟΜΠΟΝΑ\n",
      "39                          ΡΗΓΙΛΛΗΣ\n",
      "40                         ΡΙΖΟΥΠΟΛΗ\n",
      "41                              ΡΟΥΦ\n",
      "42                           ΣΕΠΟΛΙΑ\n",
      "43                            ΣΤΑΔΙΟ\n",
      "44                   ΣΤΑΘΜΟΣ ΛΑΡΙΣΗΣ\n"
     ]
    }
   ],
   "source": [
    "print(neighbourhoods_df[['neighbourhood']])\n"
   ]
  },
  {
   "cell_type": "markdown",
   "id": "99058b87",
   "metadata": {},
   "source": [
    "# "
   ]
  },
  {
   "cell_type": "markdown",
   "id": "a06986d3",
   "metadata": {},
   "source": [
    "### <font color=\"blue\"> 7. For the neighbourhoods_geojson_df : </font>"
   ]
  },
  {
   "cell_type": "code",
   "execution_count": 15,
   "id": "c12b55f2",
   "metadata": {},
   "outputs": [
    {
     "data": {
      "text/plain": [
       "(45, 3)"
      ]
     },
     "execution_count": 15,
     "metadata": {},
     "output_type": "execute_result"
    }
   ],
   "source": [
    "neighbourhoods_geojson_df.shape"
   ]
  },
  {
   "cell_type": "code",
   "execution_count": 16,
   "id": "3c305ec0",
   "metadata": {},
   "outputs": [
    {
     "data": {
      "text/html": [
       "<div>\n",
       "<style scoped>\n",
       "    .dataframe tbody tr th:only-of-type {\n",
       "        vertical-align: middle;\n",
       "    }\n",
       "\n",
       "    .dataframe tbody tr th {\n",
       "        vertical-align: top;\n",
       "    }\n",
       "\n",
       "    .dataframe thead th {\n",
       "        text-align: right;\n",
       "    }\n",
       "</style>\n",
       "<table border=\"1\" class=\"dataframe\">\n",
       "  <thead>\n",
       "    <tr style=\"text-align: right;\">\n",
       "      <th></th>\n",
       "      <th>neighbourhood</th>\n",
       "      <th>geometry</th>\n",
       "    </tr>\n",
       "  </thead>\n",
       "  <tbody>\n",
       "    <tr>\n",
       "      <th>0</th>\n",
       "      <td>1Ο ΝΕΚΡΟΤΑΦΕΙΟ</td>\n",
       "      <td>MULTIPOLYGON (((23.74251 37.96321, 23.74250 37...</td>\n",
       "    </tr>\n",
       "    <tr>\n",
       "      <th>1</th>\n",
       "      <td>ΑΓΙΟΣ ΕΛΕΥΘΕΡΙΟΣ</td>\n",
       "      <td>MULTIPOLYGON (((23.73580 38.02347, 23.73345 38...</td>\n",
       "    </tr>\n",
       "    <tr>\n",
       "      <th>2</th>\n",
       "      <td>ΑΓΙΟΣ ΚΩΝΣΤΑΝΤΙΝΟΣ-ΠΛΑΤΕΙΑ ΒΑΘΗΣ</td>\n",
       "      <td>MULTIPOLYGON (((23.72923 37.98885, 23.72855 37...</td>\n",
       "    </tr>\n",
       "    <tr>\n",
       "      <th>3</th>\n",
       "      <td>ΑΓΙΟΣ ΝΙΚΟΛΑΟΣ</td>\n",
       "      <td>MULTIPOLYGON (((23.73376 38.00839, 23.73363 38...</td>\n",
       "    </tr>\n",
       "    <tr>\n",
       "      <th>4</th>\n",
       "      <td>ΑΚΑΔΗΜΙΑ ΠΛΑΤΩΝΟΣ</td>\n",
       "      <td>MULTIPOLYGON (((23.71199 37.99614, 23.71249 37...</td>\n",
       "    </tr>\n",
       "    <tr>\n",
       "      <th>5</th>\n",
       "      <td>ΑΚΡΟΠΟΛΗ</td>\n",
       "      <td>MULTIPOLYGON (((23.72432 37.97559, 23.72405 37...</td>\n",
       "    </tr>\n",
       "    <tr>\n",
       "      <th>6</th>\n",
       "      <td>ΑΜΠΕΛΟΚΗΠΟΙ</td>\n",
       "      <td>MULTIPOLYGON (((23.76916 37.99822, 23.76928 37...</td>\n",
       "    </tr>\n",
       "    <tr>\n",
       "      <th>7</th>\n",
       "      <td>ΑΝΩ ΚΥΨΕΛΗ</td>\n",
       "      <td>MULTIPOLYGON (((23.74582 38.00798, 23.74663 38...</td>\n",
       "    </tr>\n",
       "    <tr>\n",
       "      <th>8</th>\n",
       "      <td>ΑΝΩ ΠΑΤΗΣΙΑ</td>\n",
       "      <td>MULTIPOLYGON (((23.73994 38.02293, 23.74302 38...</td>\n",
       "    </tr>\n",
       "    <tr>\n",
       "      <th>9</th>\n",
       "      <td>ΒΟΤΑΝΙΚΟΣ</td>\n",
       "      <td>MULTIPOLYGON (((23.69862 37.99356, 23.70137 37...</td>\n",
       "    </tr>\n",
       "  </tbody>\n",
       "</table>\n",
       "</div>"
      ],
      "text/plain": [
       "                      neighbourhood  \\\n",
       "0                    1Ο ΝΕΚΡΟΤΑΦΕΙΟ   \n",
       "1                  ΑΓΙΟΣ ΕΛΕΥΘΕΡΙΟΣ   \n",
       "2  ΑΓΙΟΣ ΚΩΝΣΤΑΝΤΙΝΟΣ-ΠΛΑΤΕΙΑ ΒΑΘΗΣ   \n",
       "3                    ΑΓΙΟΣ ΝΙΚΟΛΑΟΣ   \n",
       "4                 ΑΚΑΔΗΜΙΑ ΠΛΑΤΩΝΟΣ   \n",
       "5                          ΑΚΡΟΠΟΛΗ   \n",
       "6                       ΑΜΠΕΛΟΚΗΠΟΙ   \n",
       "7                        ΑΝΩ ΚΥΨΕΛΗ   \n",
       "8                       ΑΝΩ ΠΑΤΗΣΙΑ   \n",
       "9                         ΒΟΤΑΝΙΚΟΣ   \n",
       "\n",
       "                                            geometry  \n",
       "0  MULTIPOLYGON (((23.74251 37.96321, 23.74250 37...  \n",
       "1  MULTIPOLYGON (((23.73580 38.02347, 23.73345 38...  \n",
       "2  MULTIPOLYGON (((23.72923 37.98885, 23.72855 37...  \n",
       "3  MULTIPOLYGON (((23.73376 38.00839, 23.73363 38...  \n",
       "4  MULTIPOLYGON (((23.71199 37.99614, 23.71249 37...  \n",
       "5  MULTIPOLYGON (((23.72432 37.97559, 23.72405 37...  \n",
       "6  MULTIPOLYGON (((23.76916 37.99822, 23.76928 37...  \n",
       "7  MULTIPOLYGON (((23.74582 38.00798, 23.74663 38...  \n",
       "8  MULTIPOLYGON (((23.73994 38.02293, 23.74302 38...  \n",
       "9  MULTIPOLYGON (((23.69862 37.99356, 23.70137 37...  "
      ]
     },
     "execution_count": 16,
     "metadata": {},
     "output_type": "execute_result"
    }
   ],
   "source": [
    "neighbourhoods_geojson_df[['neighbourhood', 'geometry']].head(10)"
   ]
  },
  {
   "cell_type": "markdown",
   "id": "4eb3474b",
   "metadata": {},
   "source": [
    "# "
   ]
  },
  {
   "cell_type": "markdown",
   "id": "7beaa18b",
   "metadata": {},
   "source": [
    "\n",
    "<div class=\"alert-info\">\n",
    "we can see that :\n",
    "    In preparing the analysis of the AirBnB data for Athens, various datasets have been loaded and examined. The 'listings_detailed_df' provides extensive details for each listing, including location, pricing, and reviews, while 'calendar_detailed_df' contains information on availability and pricing on a daily basis. Similarly, 'reviews_detailed_df' gathers reviews for the listings, 'listings_summary_df' provides an overview of the listings, and 'reviews_summary_df' collects the dates of reviews. Additionally, 'neighbourhoods_df' describes the neighborhoods of Athens, and 'neighbourhoods_geojson_df' links neighborhoods with their geometric representation. \n",
    "    \n",
    "#### In the detailed listings DataFrame ('listings_detailed_df'):\n",
    "\n",
    "- id, listing_url, scrape_id, last_scraped, source: These columns relate to the identity of the listing.\n",
    "- name, description, neighborhood_overview: Descriptive information about the listing and its neighborhood.\n",
    "- picture_url, host_id, host_url: Image links and host information.\n",
    "- host_name, host_since, host_location, host_about: Details about the host.\n",
    "- host_response_time, host_response_rate: The host's response time and rate.\n",
    "- host_acceptance_rate, host_is_superhost: The host's acceptance rate and superhost status.\n",
    "- host_neighbourhood, neighbourhood, neighbourhood_cleansed: Neighborhood details.\n",
    "- property_type, room_type, accommodates: Type of property and its capacity.\n",
    "- price, minimum_nights, maximum_nights: Pricing and minimum/maximum night requirements.\n",
    "- number_of_reviews, review_scores_rating: The number of reviews and overall rating score.\n",
    "- availability_30, availability_60, availability_90, availability_365: Availability over various time spans.\n",
    "\n",
    "#### For the calendar detailed DataFrame ('calendar_detailed_df'):\n",
    "\n",
    "- listing_id, date: The listing's identifier and date.\n",
    "- available, price, adjusted_price: Availability and pricing information.\n",
    "- minimum_nights, maximum_nights: Minimum/maximum night requirements.\n",
    "\n",
    "#### In the reviews detailed DataFrame ('reviews_detailed_df'):\n",
    "\n",
    "- listing_id, id: Listing identifier and review identifier.\n",
    "- date, reviewer_id, reviewer_name, comments: Date of the review, reviewer's information, and their comments.\n",
    "\n",
    "#### The summary listings DataFrame ('listings_summary_df') includes:\n",
    "\n",
    "- id, name, host_id, host_name: Unique identifiers and names of the listings and hosts.\n",
    "- neighbourhood_group, neighbourhood: Neighborhood information.\n",
    "- latitude, longitude: Geographic coordinates.\n",
    "- room_type: Type of room (e.g., entire home, private room).\n",
    "- price, minimum_nights, number_of_reviews, last_review, reviews_per_month, calculated_host_listings_count, availability_365: Price, minimum nights, number of reviews, last review, monthly reviews, total number of host's listings, annual availability.\n",
    "\n",
    "#### The reviews summary DataFrame ('reviews_summary_df') contains:\n",
    "\n",
    "- listing_id, date: Listing identifier and the date of the review.\n",
    "\n",
    "#### For the neighbourhoods DataFrame ('neighbourhoods_df') and neighbourhoods geojson DataFrame ('neighbourhoods_geojson_df'):\n",
    "\n",
    "- neighbourhood: Name of the neighborhood.\n",
    "- neighbourhood_group: Neighborhood group, if applicable.\n",
    "- geometry: Geometric data for mapping the neighborhood.\n",
    "\n",
    "Each column provides specific data for the Airbnb analysis. For instance, pricing and availability columns offer insights into the market, while information on neighborhoods and hosts helps understand the geographical distribution and the nature of the listings.  \n",
    "    \n",
    "</div>"
   ]
  },
  {
   "cell_type": "markdown",
   "id": "b1ff60c7",
   "metadata": {},
   "source": [
    "# "
   ]
  },
  {
   "cell_type": "markdown",
   "id": "34358e4a",
   "metadata": {},
   "source": [
    "### <font color=\"blue\"> (Ι) Neighbourhood Listings in Descending Order : </font>\n",
    "####  the listings per neighbourghood, with the most popular neighbourhoods first (that is, in decreasing neighbourhood popularity order)."
   ]
  },
  {
   "cell_type": "markdown",
   "id": "f0216fe6",
   "metadata": {},
   "source": [
    "#####  <font color=\"grey\"> To display Airbnb listings per neighborhood in descending order of popularity, we follow these steps: </font>\n",
    "* ##### <font color=\"grey\"> We choose listings_summary_df  dataframe because it contains compact information about listings, including neighborhood data.</font>\n",
    "\n",
    "##### <font color=\"grey\"> after that we do the followings : </font>\n",
    "\n",
    "* ##### <font color=\"grey\">Calculate the Number of Listings Per Neighborhood: </font>\n",
    "<font color=\"grey\"> We use value_counts() on the neighbourhood column of listings_summary_df. This returns a series with neighborhoods and their corresponding number of listings.</font>\n",
    "\n",
    "* ##### <font color=\"grey\"> Sort in Descending Order: </font>\n",
    "<font color=\"grey\">value_counts() sorts the results in descending order by default, but we explicitly sort again for clarity using sort_values(ascending=False).</font>\n",
    "\n",
    "* ##### <font color=\"grey\"> Convert to DataFrame:</font>\n",
    "<font color=\"grey\"> To add column names, we convert the sorted series to a DataFrame. The reset_index() method transforms the series into a DataFrame, where the neighborhood names become one column, and their counts become another.</font>\n",
    "\n",
    "* ##### <font color=\"grey\"> Rename Columns and Display: </font>\n",
    "<font color=\"grey\"> We rename the columns to 'Neighbourhood' and 'Number of Listings' for clarity and then display the DataFrame.</font>\n",
    "\n"
   ]
  },
  {
   "cell_type": "markdown",
   "id": "e96f804b",
   "metadata": {},
   "source": [
    "# "
   ]
  },
  {
   "cell_type": "code",
   "execution_count": 17,
   "id": "dfd1e66e",
   "metadata": {},
   "outputs": [
    {
     "name": "stdout",
     "output_type": "stream",
     "text": [
      "                       Neighbourhood  Number of Listings\n",
      "0             ΕΜΠΟΡΙΚΟ ΤΡΙΓΩΝΟ-ΠΛΑΚΑ                2455\n",
      "1                ΚΟΥΚΑΚΙ-ΜΑΚΡΥΓΙΑΝΝΗ                1137\n",
      "2                        ΝΕΟΣ ΚΟΣΜΟΣ                1004\n",
      "3           ΜΟΥΣΕΙΟ-ΕΞΑΡΧΕΙΑ-ΝΕΑΠΟΛΗ                 987\n",
      "4   ΑΓΙΟΣ ΚΩΝΣΤΑΝΤΙΝΟΣ-ΠΛΑΤΕΙΑ ΒΑΘΗΣ                 830\n",
      "5                    ΠΛΑΤΕΙΑ ΑΤΤΙΚΗΣ                 590\n",
      "6                           ΠΑΓΚΡΑΤΙ                 529\n",
      "7                        ΑΜΠΕΛΟΚΗΠΟΙ                 461\n",
      "8                           ΚΟΛΩΝΑΚΙ                 427\n",
      "9                             ΘΗΣΕΙΟ                 397\n",
      "10                          ΑΚΡΟΠΟΛΗ                 395\n",
      "11                         ΠΕΤΡΑΛΩΝΑ                 376\n",
      "12                        ΚΕΡΑΜΕΙΚΟΣ                 352\n",
      "13                            ΚΥΨΕΛΗ                 279\n",
      "14                            ΣΤΑΔΙΟ                 249\n",
      "15                             ΓΟΥΔΙ                 240\n",
      "16                            ΙΛΙΣΙΑ                 218\n",
      "17                  ΠΛΑΤΕΙΑ ΑΜΕΡΙΚΗΣ                 179\n",
      "18                           ΖΑΠΠΕΙΟ                 172\n",
      "19                           ΠΑΤΗΣΙΑ                 169\n",
      "20                           ΝΙΡΒΑΝΑ                 168\n",
      "21                        ΛΥΚΑΒΗΤΤΟΣ                 164\n",
      "22                             ΓΚΥΖΗ                 126\n",
      "23                        ΑΝΩ ΚΥΨΕΛΗ                 118\n",
      "24                           ΚΟΛΩΝΟΣ                 113\n",
      "25                             ΓΚΑΖΙ                 104\n",
      "26                       ΠΕΔΙΟ ΑΡΕΩΣ                 104\n",
      "27                    ΑΓΙΟΣ ΝΙΚΟΛΑΟΣ                 103\n",
      "28                 ΑΚΑΔΗΜΙΑ ΠΛΑΤΩΝΟΣ                  88\n",
      "29                   ΣΤΑΘΜΟΣ ΛΑΡΙΣΗΣ                  86\n",
      "30                             ΓΟΥΒΑ                  80\n",
      "31                         ΒΟΤΑΝΙΚΟΣ                  78\n",
      "32                       ΕΛΛΗΝΟΡΩΣΩΝ                  74\n",
      "33                       ΑΝΩ ΠΑΤΗΣΙΑ                  64\n",
      "34                        ΝΕΑ ΚΥΨΕΛΗ                  60\n",
      "35                    1Ο ΝΕΚΡΟΤΑΦΕΙΟ                  53\n",
      "36                           ΣΕΠΟΛΙΑ                  45\n",
      "37                  ΑΓΙΟΣ ΕΛΕΥΘΕΡΙΟΣ                  36\n",
      "38                          ΠΟΛΥΓΩΝΟ                  26\n",
      "39                        ΚΟΛΟΚΥΝΘΟΥ                  15\n",
      "40                         ΡΙΖΟΥΠΟΛΗ                  13\n",
      "41                          ΠΡΟΜΠΟΝΑ                  12\n",
      "42                          ΡΗΓΙΛΛΗΣ                   4\n",
      "43                         ΠΕΝΤΑΓΩΝΟ                   2\n"
     ]
    }
   ],
   "source": [
    "# Calculating the number of listings per neighborhood\n",
    "neighbourhood_counts = listings_summary_df['neighbourhood'].value_counts()\n",
    "\n",
    "# Sorting in descending order\n",
    "neighbourhood_counts_sorted = neighbourhood_counts.sort_values(ascending=False)\n",
    "\n",
    "# Converting to a dataframe to add column names\n",
    "neighbourhood_counts_sorted_df = neighbourhood_counts_sorted.reset_index()\n",
    "neighbourhood_counts_sorted_df.columns = ['Neighbourhood', 'Number of Listings']\n",
    "\n",
    "# Displaying the dataframe \n",
    "print(neighbourhood_counts_sorted_df)"
   ]
  },
  {
   "cell_type": "markdown",
   "id": "5636ed61",
   "metadata": {},
   "source": [
    "\n",
    "<div class=\"alert-info\">\n",
    "we can see that :\n",
    " From the provided AirBnB data, we observe that the \"ΕΜΠΟΡΙΚΟ ΤΡΙΓΩΝΟ-ΠΛΑΚΑ\" area is the most popular neighborhood in Athens with 2,455 listings, followed by \"ΚΟΥΚΑΚΙ-ΜΑΚΡΥΓΙΑΝΝΗ\" with 1,137 listings, and \"ΝΕΟΣ ΚΟΣΜΟΣ\" with 1,004 listings. This indicates a concentration of tourist activity and available rentals in these areas, which are likely to attract visitors due to their proximity to significant attractions and their historical and cultural importance. Their high ranking suggests that these neighborhoods are highly preferred by visitors using the AirBnB platform to find accommodations in the city. Conversely, areas such as \"ΡΗΓΙΛΛΗΣ\" and \"ΠΕΝΤΑΓΩΝΟ\" show a much lower number of listings, which may reflect lesser tourist or commercial activity.\n",
    "</div>"
   ]
  },
  {
   "cell_type": "markdown",
   "id": "85ba2345",
   "metadata": {},
   "source": [
    "# "
   ]
  },
  {
   "cell_type": "markdown",
   "id": "de902236",
   "metadata": {},
   "source": [
    "### <font color=\"blue\"> (ΙΙ) Neighbourhood Prices in Descending Order : </font>\n",
    "\n",
    "####  a table with the prices per neighbourhood. The prices information contain:\n",
    "\n",
    "* median price per neighbourhood\n",
    "\n",
    "* mean price per neighbourhood\n",
    "\n",
    "* standard deviation per neighbourhood\n",
    "\n",
    "* number of listings per neighbourhood.\n",
    "\n",
    "The contents of the table are descending median prices\n",
    "    \n",
    "    \n",
    "    \n",
    "\n",
    "    "
   ]
  },
  {
   "cell_type": "markdown",
   "id": "75395e54",
   "metadata": {},
   "source": [
    "#####  <font color=\"gray\"> To create a table with neighbourhood prices in descending order of median prices,we follow these steps: </font>\n",
    "\n",
    "* ##### <font color=\"gray\"> Group Data by Neighbourhood and calculate required statistics:  </font>\n",
    "<font color=\"gray\"> We use the groupby() method on the DataFrame for the neighbourhood column and for each neighbourhood,we calculate median price, mean price, standard deviation, and the number of listings.This results in a DataFrame where each row represents a neighbourhood and each column represents one of the calculated statistics.</font>\n",
    "\n",
    "* ##### <font color=\"gray\"> Rounding the statistics to one decimal place:  </font>\n",
    "<font color=\"gray\"> The round(1) function then rounds these statistical values to one decimal place.</font>\n",
    "\n",
    "* ##### <font color=\"gray\"> Sort the DataFrame by median price in descending order </font>\n",
    "\n",
    "* ##### <font color=\"gray\"> Display the DataFrame </font>"
   ]
  },
  {
   "cell_type": "markdown",
   "id": "8dea0bc4",
   "metadata": {},
   "source": [
    "# "
   ]
  },
  {
   "cell_type": "code",
   "execution_count": 18,
   "id": "acabf2dc",
   "metadata": {},
   "outputs": [
    {
     "name": "stdout",
     "output_type": "stream",
     "text": [
      "                                  median   mean     std  count\n",
      "neighbourhood                                                 \n",
      "ΡΗΓΙΛΛΗΣ                           139.0  653.5  1071.9      4\n",
      "ΖΑΠΠΕΙΟ                            107.0  211.1   626.8    169\n",
      "ΚΟΛΩΝΑΚΙ                            97.0  123.8    96.2    415\n",
      "ΑΚΡΟΠΟΛΗ                            94.0  191.6   720.4    382\n",
      "ΕΜΠΟΡΙΚΟ ΤΡΙΓΩΝΟ-ΠΛΑΚΑ              89.0  131.8   304.0   2418\n",
      "ΚΟΥΚΑΚΙ-ΜΑΚΡΥΓΙΑΝΝΗ                 85.0  112.7   177.3   1111\n",
      "ΚΕΡΑΜΕΙΚΟΣ                          81.0  116.4   143.0    346\n",
      "ΘΗΣΕΙΟ                              77.0  108.6   110.6    386\n",
      "ΙΛΙΣΙΑ                              70.0   84.4    52.9    214\n",
      "ΛΥΚΑΒΗΤΤΟΣ                          67.0  100.4   113.9    163\n",
      "ΣΤΑΔΙΟ                              65.0  118.4   520.1    240\n",
      "ΠΑΓΚΡΑΤΙ                            65.0   84.3   100.6    511\n",
      "ΓΚΑΖΙ                               63.0   77.8    51.0    102\n",
      "ΝΕΟΣ ΚΟΣΜΟΣ                         62.0   82.7    74.2    971\n",
      "ΜΟΥΣΕΙΟ-ΕΞΑΡΧΕΙΑ-ΝΕΑΠΟΛΗ            61.0  171.6  2600.1    961\n",
      "ΠΕΤΡΑΛΩΝΑ                           60.0   81.0   103.5    369\n",
      "1Ο ΝΕΚΡΟΤΑΦΕΙΟ                      60.0   88.8    69.8     48\n",
      "ΕΛΛΗΝΟΡΩΣΩΝ                         60.0   72.5    44.9     73\n",
      "ΓΟΥΒΑ                               58.0   64.2    34.5     80\n",
      "ΓΟΥΔΙ                               57.0   71.3    57.8    234\n",
      "ΑΜΠΕΛΟΚΗΠΟΙ                         57.0   67.1    36.2    446\n",
      "ΒΟΤΑΝΙΚΟΣ                           56.0  142.0   514.0     75\n",
      "ΠΟΛΥΓΩΝΟ                            55.0   70.0    48.1     24\n",
      "ΠΡΟΜΠΟΝΑ                            55.0   60.8    28.9     11\n",
      "ΠΕΔΙΟ ΑΡΕΩΣ                         55.0   70.4    56.2     92\n",
      "ΣΕΠΟΛΙΑ                             52.0   84.9   164.4     44\n",
      "ΝΕΑ ΚΥΨΕΛΗ                          51.5   58.8    32.0     58\n",
      "ΚΥΨΕΛΗ                              50.5   65.7    61.9    270\n",
      "ΑΓΙΟΣ ΚΩΝΣΤΑΝΤΙΝΟΣ-ΠΛΑΤΕΙΑ ΒΑΘΗΣ    50.0   64.2    64.8    815\n",
      "ΣΤΑΘΜΟΣ ΛΑΡΙΣΗΣ                     48.0   58.6    46.2     82\n",
      "ΑΝΩ ΠΑΤΗΣΙΑ                         48.0   55.5    27.5     62\n",
      "ΑΚΑΔΗΜΙΑ ΠΛΑΤΩΝΟΣ                   46.0   51.8    28.1     84\n",
      "ΚΟΛΩΝΟΣ                             46.0   53.6    26.1    108\n",
      "ΠΑΤΗΣΙΑ                             45.0   59.8   120.3    166\n",
      "ΑΓΙΟΣ ΕΛΕΥΘΕΡΙΟΣ                    45.0   50.7    31.1     35\n",
      "ΠΛΑΤΕΙΑ ΑΤΤΙΚΗΣ                     45.0   91.8   484.4    555\n",
      "ΓΚΥΖΗ                               45.0   53.9    44.9    120\n",
      "ΡΙΖΟΥΠΟΛΗ                           45.0   52.3    25.7     11\n",
      "ΑΓΙΟΣ ΝΙΚΟΛΑΟΣ                      44.0   53.6    35.0    100\n",
      "ΠΕΝΤΑΓΩΝΟ                           43.5   43.5     4.9      2\n",
      "ΑΝΩ ΚΥΨΕΛΗ                          41.5   46.2    26.5    114\n",
      "ΝΙΡΒΑΝΑ                             41.0   48.1    24.8    160\n",
      "ΠΛΑΤΕΙΑ ΑΜΕΡΙΚΗΣ                    41.0   52.9    38.6    172\n",
      "ΚΟΛΟΚΥΝΘΟΥ                          40.0   40.9     6.6     13\n"
     ]
    }
   ],
   "source": [
    "# Group by neighbourhood and calculate required statistics\n",
    "neighbourhood_prices_stats = listings_summary_df.groupby('neighbourhood')['price'].agg(['median', 'mean', 'std', 'count'])\n",
    "\n",
    "# Rounding the statistics to one decimal place\n",
    "neighbourhood_prices_stats = neighbourhood_prices_stats.round(1)\n",
    "\n",
    "# Sort the DataFrame by median price in descending order\n",
    "neighbourhood_prices_stats_sorted = neighbourhood_prices_stats.sort_values(by='median', ascending=False)\n",
    "\n",
    "# Display the DataFrame\n",
    "print(neighbourhood_prices_stats_sorted)"
   ]
  },
  {
   "cell_type": "markdown",
   "id": "85b2618c",
   "metadata": {},
   "source": [
    "\n",
    "<div class=\"alert-info\">\n",
    "we can see that :   The AirBnB data for Athens reveals a distinct distribution of accommodation prices across different neighborhoods. The neighborhood \"ΡΗΓΙΛΛΗΣ\" showcases the highest median price at €139, although it only has 4 listings, indicating a potentially exclusive area with limited, yet expensive options. \"ΖΑΠΠΕΙΟ\" follows with a median of €107 and a mean price significantly higher, suggesting a wide range of prices within the area, as evidenced by the large standard deviation.\n",
    "\n",
    "\"ΚΟΛΩΝΑΚΙ\" stands out with a median price of €97 and a more moderate standard deviation, pointing to a higher-end market with less variation in pricing. \"ΑΚΡΟΠΟΛΗ\" and \"ΕΜΠΟΡΙΚΟ ΤΡΙΓΩΝΟ-ΠΛΑΚΑ\" are also among the more expensive neighborhoods, with median prices of €94 and €89 respectively, both with a significant number of listings, indicating their popularity and possibly their touristic value.\n",
    "\n",
    "The data suggest a trend where neighborhoods known for their historical and cultural significance tend to have higher median prices. The high standard deviations in some of these areas, like \"ΕΜΠΟΡΙΚΟ ΤΡΙΓΩΝΟ-ΠΛΑΚΑ\", imply a broad range of accommodation types and prices, catering to different budgets but still maintaining a higher overall price point.\n",
    "\n",
    "On the other end, neighborhoods like \"ΚΟΛΟΚΥΝΘΟΥ\" and \"ΠΛΑΤΕΙΑ ΑΜΕΡΙΚΗΣ\" present more affordable options with median prices at €40 and €41, which could be indicative of less central locations or areas with fewer tourist attractions. These lower prices could appeal to budget travelers or those seeking longer-term stays.\n",
    "\n",
    "</div>"
   ]
  },
  {
   "cell_type": "markdown",
   "id": "d042eabb",
   "metadata": {},
   "source": [
    "# "
   ]
  },
  {
   "cell_type": "markdown",
   "id": "6400ea81",
   "metadata": {},
   "source": [
    "\n",
    "### <font color=\"blue\"> (ΙΙΙ) Availability per Day : </font>\n",
    "\n",
    "####  Create a plot with the number of listings available per day, on the $y$ axis, and the date, on the $x$ axis.\n"
   ]
  },
  {
   "cell_type": "markdown",
   "id": "57886d52",
   "metadata": {},
   "source": [
    "#####  <font color=\"grey\"> To create Create a plot with the number of listings available per day, on the  𝑦 axis, and the date, on the  𝑥 axis,we follow these steps: </font>\n",
    "\n",
    "* ##### <font color=\"grey\"> We will work with the dataframe calendar_detailed_df. </font>\n",
    "\n",
    "* ##### <font color=\"grey\"> Convert the 'date' column to datetime format:  </font>\n",
    "<font color=\"grey\">This is necessary for proper handling and plotting of date data.</font>\n",
    "\n",
    "* ##### <font color=\"grey\">The 'available' column, which has values 't' for available and 'f' for not available, is converted to a binary format. </font>\n",
    "<font color=\"grey\"> 't' is replaced with 1 (indicating availability) and 'f' is replaced with 0 (indicating non-availability).</font>\n",
    "\n",
    "* ##### <font color=\"grey\">  Group by date and calculate the sum of availability:  </font>\n",
    "<font color=\"grey\"> The DataFrame is grouped by the 'date' column using the groupby(). So the data for aggregation.\n",
    "For each date, the sum of the 'available' column is calculated. This results in a new Series, availability_per_day, where the index is the date and the value is the total number of available listings on that date. </font>\n",
    "\n",
    "* ##### <font color=\"grey\"> Plot Creation: </font>\n",
    "<font color=\"grey\">  A figure is created with the size 12x6 inches using plt.figure().\n",
    "The availability_per_day Series is plotted as a line plot. The plot is with small circular markers (marker='o') of size 3 (markersize=3), colored blue (color='b'), and a thin line (linewidth=0.5).The use of a thin line and small markers creates a more precise and less cluttered visual representation of the data.\n",
    "The title of the plot is set to 'Number of Listings Available per Day'.\n",
    "The x-axis is labeled 'Date', and the y-axis is labeled 'Number of Listings Available'.\n",
    "A grid is added to the plot for better readability using plt.grid(True).</font>\n",
    "\n",
    "* ##### <font color=\"grey\"> Displaying the Plot </font>\n",
    "<font color=\"grey\">  </font>\n"
   ]
  },
  {
   "cell_type": "markdown",
   "id": "9c1b8f49",
   "metadata": {},
   "source": [
    "# "
   ]
  },
  {
   "cell_type": "code",
   "execution_count": 19,
   "id": "3c78934a",
   "metadata": {},
   "outputs": [
    {
     "data": {
      "image/png": "[encoded data removed]",
      "text/plain": [
       "<Figure size 1200x600 with 1 Axes>"
      ]
     },
     "metadata": {},
     "output_type": "display_data"
    }
   ],
   "source": [
    "#Convert the 'date' column to datetime and the 'available' column to binary format \n",
    "#(1 for available, 0 for not available).\n",
    "calendar_detailed_df['date'] = pd.to_datetime(calendar_detailed_df['date'])\n",
    "calendar_detailed_df['available'] = calendar_detailed_df['available'].replace({'t': 1, 'f': 0})\n",
    "\n",
    "# Group by date and calculate the sum of availability.\n",
    "availability_per_day = calendar_detailed_df.groupby('date')['available'].sum()\n",
    "\n",
    "# create the plot\n",
    "plt.figure(figsize=(12, 6))\n",
    "availability_per_day.plot(kind='line', marker='o', markersize=3, color='b', linewidth=0.5)  \n",
    "plt.title('Number of Listings Available per Day')\n",
    "plt.xlabel('Date')\n",
    "plt.ylabel('Number of Listings Available')\n",
    "plt.grid(True)\n",
    "plt.show()"
   ]
  },
  {
   "cell_type": "markdown",
   "id": "2a9ad1e3",
   "metadata": {},
   "source": [
    "<div class=\"alert-info\">\n",
    "we can see that :\n",
    "    The graph depicting the number of listings available per day throughout the year 2024 in Athens presents a clear pattern of availability. There is a notable peak of availability in the early months, particularly January and February, where the number of available listings reaches close to 10,000. Following this peak, there is a sharp decrease leading into March, which could indicate a seasonal influx of visitors or a common period for hosts to make their properties available.\n",
    "\n",
    "The availability then stabilizes from April through to October, maintaining a steady level just above 6,000 listings. This plateau suggests a consistent demand and supply of AirBnB accommodations during these months, possibly reflecting the main tourist season in Athens.\n",
    "\n",
    "Towards the end of the year, there is another notable dip in availability in November, which could be attributed to less tourist activity or hosts withdrawing their listings for personal use or maintenance during the off-season. The availability then slightly recovers in December, although not reaching the highs seen at the beginning of the year.\n",
    "</div>"
   ]
  },
  {
   "cell_type": "markdown",
   "id": "8fa859cb",
   "metadata": {},
   "source": [
    "# "
   ]
  },
  {
   "cell_type": "markdown",
   "id": "371e51dc",
   "metadata": {},
   "source": [
    "### <font color=\"blue\"> (IV) Reviews, Occupacy per Listing, Average Income : </font>\n",
    "\n",
    "####   A histogram showing the number of reviews per listing. The histogram  bin the number of reviews, from the smallest amount of reviews in a listing, to the maximum number of reviews in a listing rounded up to the closest hundred.                                              \n",
    "#### Calculation of the average occupacy per listing per month. (To calculate that, we found the average reviews per month and assume that half of the bookings result in reviews).                                                                                                                                                           \n",
    "#### Then, we assume that each booking is for a three nights stay, and we calculate the average income per month, using the average price charged throughout all listings.\n",
    "\n",
    "\n",
    "\n"
   ]
  },
  {
   "cell_type": "markdown",
   "id": "315f0585",
   "metadata": {},
   "source": [
    "#####  <font color=\"grey\"> we follow these steps: </font>\n",
    "\n",
    "* ##### <font color=\"grey\"> We will work with the dataframes listings_summary_df and reviews_detailed_df. </font>\n",
    "\n",
    "* ##### <font color=\"grey\">  Data Type Check and Conversion for 'price' Column: </font>\n",
    "<font color=\"grey\"> We first checked the data type of the 'price' column in listings_summary_df. If it was not a string, we converted it to a string for further processing. </font>\n",
    "\n",
    "* ##### <font color=\"grey\"> Cleaning 'price' Column:  </font>\n",
    "<font color=\"grey\"> The 'price' column was cleaned by removing any dollar signs and commas, then converting the cleaned strings to floats for numerical operations. </font>\n",
    "\n",
    "* ##### <font color=\"grey\"> Calculation of Average Reviews Per Month:  </font>\n",
    "<font color=\"grey\"> We calculated the mean value of the 'reviews_per_month' column in listings_summary_df to determine the average number of reviews each listing receives per month. </font>\n",
    "\n",
    "* ##### <font color=\"grey\"> Assumption for Booking Calculation: </font>\n",
    "<font color=\"grey\">Based on the assumption that half of the bookings result in reviews, we estimated the average number of bookings per month by doubling the average reviews per month.  </font>\n",
    "\n",
    "* ##### <font color=\"grey\"> Calculation of Average Income Per Month:  </font>\n",
    "<font color=\"grey\"> We found the mean of the 'price' column in listings_summary_df to get the average price charged across all listings. We then calculated the average income per month by multiplying the average number of bookings per month by the average price and by 3 (assuming each booking is for a three-night stay) </font>\n",
    "\n",
    "* ##### <font color=\"grey\">Histogram Creation :  </font>\n",
    "<font color=\"grey\"> We created a histogram to visualize the distribution of the number of reviews per listing. We collected the counts of reviews per listing from reviews_detailed_df and used these values to plot the histogram. We set the bins of the histogram to range from 0 to the maximum number of reviews rounded up to the nearest hundred, with an edge color defined for better visibility.We plotted the histogram with the appropriate labels for the title, x-axis, and y-axis. We also set the figure size to ensure the plot was clear and easy to read. </font>"
   ]
  },
  {
   "cell_type": "markdown",
   "id": "ecab3baf",
   "metadata": {},
   "source": [
    "# "
   ]
  },
  {
   "cell_type": "code",
   "execution_count": 20,
   "id": "8e46123f",
   "metadata": {},
   "outputs": [
    {
     "name": "stdout",
     "output_type": "stream",
     "text": [
      "Average Income per Month: $1073.22\n"
     ]
    },
    {
     "data": {
      "image/png": "[encoded data removed]",
      "text/plain": [
       "<Figure size 1000x600 with 1 Axes>"
      ]
     },
     "metadata": {},
     "output_type": "display_data"
    }
   ],
   "source": [
    "#Data Type Check and Conversion for 'price' Column:if not pd.api.types.is_string_dtype(listings_summary_df['price']):\n",
    "listings_summary_df['price'] = listings_summary_df['price'].astype(str)\n",
    "\n",
    "# Cleaning the 'price' column and converting it to numeric form\n",
    "listings_summary_df['price'] = listings_summary_df['price'].str.replace('$', '').str.replace(',', '').astype(float)\n",
    "\n",
    "# Calculation of the average number of reviews per month per listing.\n",
    "average_reviews_per_month = listings_summary_df['reviews_per_month'].mean()\n",
    "\n",
    "# We assume that half of the bookings result in reviews.\n",
    "average_bookings_per_month = average_reviews_per_month * 2\n",
    "\n",
    "# Calculation of the average income per month.\n",
    "average_price = listings_summary_df['price'].mean()\n",
    "average_income_per_month = average_bookings_per_month * average_price * 3\n",
    "\n",
    "print(f\"Average Income per Month: ${average_income_per_month:.2f}\")\n",
    "\n",
    "# Creation of a histogram for the number of reviews per listing.\n",
    "reviews_per_listing = reviews_detailed_df['listing_id'].value_counts()\n",
    "plt.figure(figsize=(10, 6))\n",
    "plt.hist(reviews_per_listing, bins=range(0, reviews_per_listing.max() + 1, 100), edgecolor='black')\n",
    "plt.title('Histogram of Reviews per Listing')\n",
    "plt.xlabel('Number of Reviews')\n",
    "plt.ylabel('Number of Listings')\n",
    "plt.show()"
   ]
  },
  {
   "cell_type": "markdown",
   "id": "99a84cdc",
   "metadata": {},
   "source": [
    "<div class=\"alert-info\">\n",
    "we can see that :\n",
    "    The histogram of reviews per listing in the AirBnB data for Athens illustrates that a vast majority of listings have a low number of reviews, with the highest frequency being listings with zero to one hundred reviews. This suggests that either a large number of properties are relatively new to the platform or they do not get booked frequently. The steep decline in frequency as the number of reviews increases indicates that only a small fraction of listings have a high number of reviews, which could be due to longer presence on the platform, higher popularity, or better ratings.\n",
    "\n",
    "The average income per month calculated to be $1073.22 provides an insight into the potential revenue for an average listing. This assumes that every booking is for a three-night stay and that half of the bookings leave a review. This figure helps us gauge the economic impact of AirBnB listings in Athens and may serve as a benchmark for hosts to compare their earnings against the average.\n",
    "</div>"
   ]
  },
  {
   "cell_type": "markdown",
   "id": "9d8aa060",
   "metadata": {},
   "source": [
    "# "
   ]
  },
  {
   "cell_type": "markdown",
   "id": "55bd2114",
   "metadata": {},
   "source": [
    "### <font color=\"blue\"> (V) Listings per Room Type : </font>\n",
    "\n",
    "####  The number of listings per room type, in absolute numbers, and also in percentages (the percentage of listings for each particular room type). Then, the number of listings per neighrbourhood and room type. \n",
    "\n",
    "\n",
    "\n",
    "\n"
   ]
  },
  {
   "cell_type": "markdown",
   "id": "f7d86495",
   "metadata": {},
   "source": [
    "#####  <font color=\"grey\"> we follow these steps: </font>\n",
    "\n",
    "* ##### <font color=\"grey\"> We will work with the dataframe listings_summary_df. </font>\n",
    "\n",
    "* ##### <font color=\"grey\"> Calculation of Listings per Room Type: </font>\n",
    "<font color=\"grey\">We use the value_counts() method on the room_type column of the listings_summary_df DataFrame to count the number of listings for each room type. </font>\n",
    "\n",
    "* ##### <font color=\"grey\"> Calculation of Percentage for Each Room Type:  </font>\n",
    "<font color=\"grey\">We compute the percentages of each room type by dividing the counts by the total sum of listings and then multiplying by 100 to get the percentage. </font>\n",
    "\n",
    "* ##### <font color=\"grey\"> Display of Counts and Percentages: </font>\n",
    "<font color=\"grey\"> we printe both the absolute numbers and the percentages of listings for each room type to provide a comprehensive view of their distribution. </font>\n",
    "\n",
    "* ##### <font color=\"grey\"> Grouping Listings by Neighborhood and Room Type:  </font>\n",
    "<font color=\"grey\">We employe the groupby() method combined with size() and unstack() on the listings_summary_df DataFrame to count the number of listings for each combination of neighborhood and room type, filling any missing values with zero. </font>\n",
    "\n",
    "* ##### <font color=\"grey\"> Display of Listings per Neighborhood and Room Type </font>\n",
    "<font color=\"grey\">  </font>\n"
   ]
  },
  {
   "cell_type": "markdown",
   "id": "bfdfd2d8",
   "metadata": {},
   "source": [
    "# "
   ]
  },
  {
   "cell_type": "code",
   "execution_count": 21,
   "id": "dd35122b",
   "metadata": {},
   "outputs": [
    {
     "name": "stdout",
     "output_type": "stream",
     "text": [
      "Number of Listings per Room Type:\n",
      "room_type\n",
      "Entire home/apt    11906\n",
      "Private room        1091\n",
      "Hotel room           102\n",
      "Shared room           83\n",
      "Name: count, dtype: int64\n",
      "\n",
      "Percentage of Listings per Room Type:\n",
      "room_type\n",
      "Entire home/apt    90.320134\n",
      "Private room        8.276438\n",
      "Hotel room          0.773782\n",
      "Shared room         0.629646\n",
      "Name: count, dtype: float64\n",
      "\n",
      "Number of Listings per Neighbourhood and Room Type:\n",
      "room_type                         Entire home/apt  Hotel room  Private room  Shared room\n",
      "neighbourhood                                                                           \n",
      "1Ο ΝΕΚΡΟΤΑΦΕΙΟ                                 53           0             0            0\n",
      "ΑΓΙΟΣ ΕΛΕΥΘΕΡΙΟΣ                               31           0             5            0\n",
      "ΑΓΙΟΣ ΚΩΝΣΤΑΝΤΙΝΟΣ-ΠΛΑΤΕΙΑ ΒΑΘΗΣ              709           0           108           13\n",
      "ΑΓΙΟΣ ΝΙΚΟΛΑΟΣ                                 94           0             9            0\n",
      "ΑΚΑΔΗΜΙΑ ΠΛΑΤΩΝΟΣ                              86           0             2            0\n",
      "ΑΚΡΟΠΟΛΗ                                      369           6            20            0\n",
      "ΑΜΠΕΛΟΚΗΠΟΙ                                   427           0            30            4\n",
      "ΑΝΩ ΚΥΨΕΛΗ                                    102           0            16            0\n",
      "ΑΝΩ ΠΑΤΗΣΙΑ                                    61           0             3            0\n",
      "ΒΟΤΑΝΙΚΟΣ                                      74           0             4            0\n",
      "ΓΚΑΖΙ                                          97           0             6            1\n",
      "ΓΚΥΖΗ                                         110           0            16            0\n",
      "ΓΟΥΒΑ                                          78           0             2            0\n",
      "ΓΟΥΔΙ                                         219           1            18            2\n",
      "ΕΛΛΗΝΟΡΩΣΩΝ                                    71           0             3            0\n",
      "ΕΜΠΟΡΙΚΟ ΤΡΙΓΩΝΟ-ΠΛΑΚΑ                       2116          41           273           25\n",
      "ΖΑΠΠΕΙΟ                                       168           1             3            0\n",
      "ΘΗΣΕΙΟ                                        343          12            41            1\n",
      "ΙΛΙΣΙΑ                                        203           0            15            0\n",
      "ΚΕΡΑΜΕΙΚΟΣ                                    313           8            25            6\n",
      "ΚΟΛΟΚΥΝΘΟΥ                                     14           0             1            0\n",
      "ΚΟΛΩΝΑΚΙ                                      394          10            23            0\n",
      "ΚΟΛΩΝΟΣ                                       101           0            12            0\n",
      "ΚΟΥΚΑΚΙ-ΜΑΚΡΥΓΙΑΝΝΗ                          1065           6            66            0\n",
      "ΚΥΨΕΛΗ                                        241           0            37            1\n",
      "ΛΥΚΑΒΗΤΤΟΣ                                    153           5             5            1\n",
      "ΜΟΥΣΕΙΟ-ΕΞΑΡΧΕΙΑ-ΝΕΑΠΟΛΗ                      892           5            86            4\n",
      "ΝΕΑ ΚΥΨΕΛΗ                                     57           0             3            0\n",
      "ΝΕΟΣ ΚΟΣΜΟΣ                                   938           0            57            9\n",
      "ΝΙΡΒΑΝΑ                                       153           0            15            0\n",
      "ΠΑΓΚΡΑΤΙ                                      504           1            24            0\n",
      "ΠΑΤΗΣΙΑ                                       148           0            21            0\n",
      "ΠΕΔΙΟ ΑΡΕΩΣ                                    90           0            14            0\n",
      "ΠΕΝΤΑΓΩΝΟ                                       2           0             0            0\n",
      "ΠΕΤΡΑΛΩΝΑ                                     357           2            11            6\n",
      "ΠΛΑΤΕΙΑ ΑΜΕΡΙΚΗΣ                              160           0            19            0\n",
      "ΠΛΑΤΕΙΑ ΑΤΤΙΚΗΣ                               517           0            68            5\n",
      "ΠΟΛΥΓΩΝΟ                                       26           0             0            0\n",
      "ΠΡΟΜΠΟΝΑ                                       11           0             1            0\n",
      "ΡΗΓΙΛΛΗΣ                                        4           0             0            0\n",
      "ΡΙΖΟΥΠΟΛΗ                                      10           0             3            0\n",
      "ΣΕΠΟΛΙΑ                                        41           0             4            0\n",
      "ΣΤΑΔΙΟ                                        230           0            18            1\n",
      "ΣΤΑΘΜΟΣ ΛΑΡΙΣΗΣ                                74           4             4            4\n"
     ]
    }
   ],
   "source": [
    "# Calculation of Listings per Room Type:\n",
    "room_type_counts = listings_summary_df['room_type'].value_counts()\n",
    "\n",
    "# Calculation of Percentage for Each Room Type\n",
    "room_type_percentages = (room_type_counts / room_type_counts.sum()) * 100\n",
    "\n",
    "# Display of Counts and Percentages\n",
    "print(\"Number of Listings per Room Type:\")\n",
    "print(room_type_counts)\n",
    "print(\"\\nPercentage of Listings per Room Type:\")\n",
    "print(room_type_percentages)\n",
    "\n",
    "# Grouping Listings by Neighborhood and Room Type\n",
    "listings_per_neighbourhood_room_type =listings_summary_df.groupby(['neighbourhood', 'room_type']).size().unstack(fill_value=0)\n",
    "\n",
    "pd.set_option('display.max_columns', None)  \n",
    "pd.set_option('display.width', 1000)        \n",
    "\n",
    "print(\"\\nNumber of Listings per Neighbourhood and Room Type:\")\n",
    "print(listings_per_neighbourhood_room_type)"
   ]
  },
  {
   "cell_type": "markdown",
   "id": "24c74310",
   "metadata": {},
   "source": [
    "<div class=\"alert-info\">\n",
    "we can see that :\n",
    "    The analysis of the Airbnb listings in Athens has provided information about the room type preferences and their geographical distribution. The majority of listings are categorized as entire homes or apartments, making up over 90% of the total, indicating a market that caters predominantly to travelers seeking private accommodations. Private rooms comprise about 8%, hotel rooms are less than 1%, and shared rooms constitute a minimal percentage, highlighting a lesser demand for shared living spaces.\n",
    "\n",
    "The distribution is reflective of a trend where visitors prioritize having a space entirely to themselves, which could be driven by the desire for privacy, space, or a full-home experience. The negligible percentage of shared rooms suggests that this type of accommodation is the least preferred among Airbnb users in Athens.\n",
    "\n",
    "When breaking down the listings by neighborhood and room type, it becomes evident that certain areas have higher concentrations of specific types of listings. For example, \"ΕΜΠΟΡΙΚΟ ΤΡΙΓΩΝΟ-ΠΛΑΚΑ\" has the highest number of entire homes/apartments, which aligns with its popularity as a tourist hub.\n",
    "\n",
    "The variation across neighborhoods in the mix of room types offered could be attributed to the differing character and demand in each area. Some neighborhoods may attract more budget travelers looking for private rooms, while others may be more desirable for tourists who are willing to pay more for a full apartment in a prime location.\n",
    "</div>"
   ]
  },
  {
   "cell_type": "markdown",
   "id": "cdf1ea4e",
   "metadata": {},
   "source": [
    "# "
   ]
  },
  {
   "cell_type": "markdown",
   "id": "7d57ff40",
   "metadata": {},
   "source": [
    "### <font color=\"blue\"> (VI) Prices per Day : </font>\n",
    "\n",
    "####  Α table with the average price per listing per day and a graph visualizing the table.\n"
   ]
  },
  {
   "cell_type": "markdown",
   "id": "1afa10d4",
   "metadata": {},
   "source": [
    "# "
   ]
  },
  {
   "cell_type": "code",
   "execution_count": 22,
   "id": "05cf8cec",
   "metadata": {},
   "outputs": [
    {
     "name": "stdout",
     "output_type": "stream",
     "text": [
      "Average Price per Listing per Day:\n",
      "          date       price\n",
      "0   2023-12-25   88.523767\n",
      "1   2023-12-26  101.385222\n",
      "2   2023-12-27  101.385222\n",
      "3   2023-12-28  101.385222\n",
      "4   2023-12-29  101.385222\n",
      "..         ...         ...\n",
      "361 2024-12-20  101.385222\n",
      "362 2024-12-21  101.385222\n",
      "363 2024-12-22  101.385222\n",
      "364 2024-12-23  101.385222\n",
      "365 2024-12-24  130.112601\n",
      "\n",
      "[366 rows x 2 columns]\n"
     ]
    },
    {
     "data": {
      "image/png": "[encoded data removed]",
      "text/plain": [
       "<Figure size 1000x600 with 1 Axes>"
      ]
     },
     "metadata": {},
     "output_type": "display_data"
    }
   ],
   "source": [
    "\n",
    "#  Clean the 'price' column to remove '$' and ',' characters\n",
    "calendar_detailed_df['price'] = calendar_detailed_df['price'].replace('[\\$,]', '', regex=True).astype(float)\n",
    "\n",
    "# Convert 'date' column to datetime format \n",
    "calendar_detailed_df['date'] = pd.to_datetime(calendar_detailed_df['date'])\n",
    " \n",
    "#  Calculate average price per listing per day\n",
    "average_price_per_day = calendar_detailed_df.groupby('date')['price'].mean().reset_index()\n",
    " \n",
    "# Print the table\n",
    "print(\"Average Price per Listing per Day:\")\n",
    "print(average_price_per_day)\n",
    "\n",
    "# Plotting the graph\n",
    "plt.figure(figsize=(10, 6))\n",
    "plt.plot(average_price_per_day['date'], average_price_per_day['price'], marker='o', color='skyblue')\n",
    "plt.xlabel('Date', fontsize=12)\n",
    "plt.ylabel('Average Price per Listing', fontsize=12)\n",
    "plt.title('Average Price per Listing per Day', fontsize=14, fontweight='bold')\n",
    "plt.xticks(rotation=45)\n",
    "plt.tight_layout()\n",
    "plt.show()\n"
   ]
  },
  {
   "cell_type": "markdown",
   "id": "dafb0435",
   "metadata": {},
   "source": [
    "<div class=\"alert-info\">\n",
    "we can see that :   \n",
    "The graph shows the average price per listing per day for a period of time. From the graph, it appears that the average price remains constant over time, except for two distinct spikes. One of these spikes shows a dramatic drop to zero, while the other shows a dramatic increase.\n",
    "\n",
    "The drop to zero could indicate a data error or an outlier. It's unlikely for the average price to actually be zero unless there were no bookings for that day or if there was an error in data collection or processing.\n",
    "The spike in price at the end of the period could suggest a seasonal increase in prices, a special event that caused a surge in demand, or again, it could be a data anomaly that requires further investigation.\n",
    "Apart from the two spikes, the prices are stable, which might indicate that there's a consistent demand and supply for the listings, and the pricing strategy does not vary day-to-day.\n",
    "If the zero price is not a data error, this could be an interesting point for further time series analysis. Understanding what happened on this particular day could provide insights into external factors that impact pricing.\n",
    "It's important to consider external factors such as holidays, local events, or seasonal trends that could explain these anomalies.    \n",
    "</div>"
   ]
  },
  {
   "cell_type": "markdown",
   "id": "27168224",
   "metadata": {},
   "source": [
    "# "
   ]
  },
  {
   "cell_type": "markdown",
   "id": "47cb09b0",
   "metadata": {},
   "source": [
    "### <font color=\"blue\"> (VIΙ) Listings per Host : </font>\n",
    "\n",
    "####  Α table with the number of listings per host, in descending order. Α a graph that will show the distribution of listings per host, as follows:\n",
    "\n",
    "We rank the host on a number of listings basis. So, the first host will be the one with the largest number of listings, the second host will be the one with the second largest number of listings, etc. If there is a number of hosts with the same listings, we just add them in sequence. For instance, if there are 10 hosts with one listing each, we add them in the ranking with any order between them.\n",
    "\n",
    "On the  𝑦 axis we will have the number of listings.\n",
    "\n",
    "That is, a point  (𝑥,𝑦) will mean that the  𝑥-th highest hosting host has 𝑦 listings.\n",
    "\n",
    "After we drawn the plot,and  do another one, this time with the  𝑥 axis in logarithmic scale."
   ]
  },
  {
   "cell_type": "markdown",
   "id": "ae1f0051",
   "metadata": {},
   "source": [
    "#####  <font color=\"grey\"> we follow these steps: </font>\n",
    "\n",
    "* ##### <font color=\"grey\"> We will work with the dataframe listings_summary_df </font>\n",
    "\n",
    "* ##### <font color=\"grey\"> Counting Listings Per Host: </font>\n",
    "<font color=\"grey\"> We used the value_counts() method on the host_id column of the listings_summary_df DataFrame to count how many listings each host has. </font>\n",
    "\n",
    "* ##### <font color=\"grey\"> Sorting Counts in Descending Order:  </font>\n",
    "<font color=\"grey\"> The resulting counts were sorted in descending order to rank the hosts from the one with the most listings to the one with the fewest. </font>\n",
    "\n",
    "* ##### <font color=\"grey\"> Creating a DataFrame for Sorted Counts:  </font>\n",
    "<font color=\"grey\"> We created a new DataFrame from the sorted counts, labeling the columns as 'Host ID' and 'Number of Listings' to clearly represent the data. </font>\n",
    "\n",
    "* ##### <font color=\"grey\">Displaying the DataFrame:  </font>\n",
    "<font color=\"grey\"> The new DataFrame was printed out to show the number of listings associated with each host. </font>\n",
    "\n",
    "* ##### <font color=\"grey\"> Plotting Distribution of Listings Per Host:  </font>\n",
    "<font color=\"grey\">  A plot was created to visualize the number of listings per host. Each host was ranked based on the number of listings they have, and the vertical position (y-value) of each point represented the number of listings for that hos</font>\n",
    "\n",
    "* ##### <font color=\"grey\">Creating a Logarithmic Plot: </font>\n",
    "<font color=\"grey\">Another plot was created with the same y-values, but this time the x-axis was set to a logarithmic scale. This helps to better visualize the distribution when there is a large range of values, as is often the case with the number of listings per host.  </font>"
   ]
  },
  {
   "cell_type": "markdown",
   "id": "5e16f1d6",
   "metadata": {},
   "source": [
    "# "
   ]
  },
  {
   "cell_type": "code",
   "execution_count": 23,
   "id": "bc8e74d2",
   "metadata": {},
   "outputs": [
    {
     "name": "stdout",
     "output_type": "stream",
     "text": [
      "        Host ID  Number of Listings\n",
      "0      20104194                 121\n",
      "1     113548208                 101\n",
      "2      90390850                  68\n",
      "3     113353393                  64\n",
      "4      47267002                  62\n",
      "...         ...                 ...\n",
      "5835   69024112                   1\n",
      "5836   76167139                   1\n",
      "5837    4155182                   1\n",
      "5838  541487158                   1\n",
      "5839  180153653                   1\n",
      "\n",
      "[5840 rows x 2 columns]\n"
     ]
    },
    {
     "data": {
      "image/png": "[encoded data removed]",
      "text/plain": [
       "<Figure size 1000x600 with 1 Axes>"
      ]
     },
     "metadata": {},
     "output_type": "display_data"
    },
    {
     "data": {
      "image/png": "[encoded data removed]",
      "text/plain": [
       "<Figure size 1000x600 with 1 Axes>"
      ]
     },
     "metadata": {},
     "output_type": "display_data"
    }
   ],
   "source": [
    "# Count the number of listings per host\n",
    "listings_per_host = listings_summary_df['host_id'].value_counts()\n",
    "\n",
    "# Sort the counts in descending order\n",
    "listings_per_host_sorted = listings_per_host.sort_values(ascending=False)\n",
    "\n",
    "# Create a DataFrame from the sorted counts\n",
    "listings_per_host_df = pd.DataFrame({'Host ID': listings_per_host_sorted.index, 'Number of Listings': listings_per_host_sorted.values})\n",
    "\n",
    "# Display the DataFrame\n",
    "print(listings_per_host_df)\n",
    "\n",
    "# Plotting the distribution of listings per host\n",
    "plt.figure(figsize=(10, 6))\n",
    "plt.plot(listings_per_host_sorted.values)\n",
    "plt.xlabel('Hosts (Ranked by Number of Listings)')\n",
    "plt.ylabel('Number of Listings')\n",
    "plt.title('Distribution of Listings per Host')\n",
    "plt.grid(True)\n",
    "plt.show()\n",
    "\n",
    "# Plotting with a logarithmic x-axis\n",
    "plt.figure(figsize=(10, 6))\n",
    "plt.plot(range(1, len(listings_per_host_sorted) + 1), listings_per_host_sorted.values, label='Listings per Host', marker='s')\n",
    "plt.xscale('log')\n",
    "plt.xlabel('Hosts (Ranked by Number of Listings)')\n",
    "plt.ylabel('Number of Listings')\n",
    "plt.title('Distribution of Listings per Host (Logarithmic Scale)')\n",
    "plt.grid(True)\n",
    "plt.show()"
   ]
  },
  {
   "cell_type": "markdown",
   "id": "9aeacf6c",
   "metadata": {},
   "source": [
    "<div class=\"alert-info\">\n",
    "we can see that :\n",
    "    The visual analysis of the number of listings per host in Athens, as displayed in the linear and logarithmic graphs, indicates a highly skewed distribution. A small number of hosts hold a disproportionately large number of listings, with the top host managing 121 properties. This suggests the presence of professional hosts or companies specializing in short-term rentals. The steep drop-off in the number of listings as we move down the ranks of hosts indicates that the vast majority have only a few listings, which is typical of individual property owners or hosts who offer a single home or a few rooms.\n",
    "\n",
    "The linear graph illustrates this concentration at the high end, but the tail of the distribution—hosts with fewer listings—is not as visible due to the scale. The logarithmic graph, on the other hand, provides a better view of the distribution's tail, revealing that there is a substantial number of hosts with just one or a handful of listings, emphasizing the long-tail nature of the distribution. This suggests a market with a mix of host types, from large-scale operators to individual homeowners sharing their space.\n",
    "</div>"
   ]
  },
  {
   "cell_type": "markdown",
   "id": "e64a19ce",
   "metadata": {},
   "source": [
    "# "
   ]
  },
  {
   "cell_type": "markdown",
   "id": "37843749",
   "metadata": {},
   "source": [
    "### <font color=\"blue\"> (VIΙΙ) Visualize Listings : </font>\n",
    "\n",
    "####   Αn interactive map to show the listings ovelayed on Athens.\n",
    "\n",
    "We can use the folium library to create the map\n",
    "\n",
    "The map  shows each listing and on clicking on top of it, the user  see a short description of the listing.\n",
    "\n",
    "We save it to an external HTML file that can be opened by any browser."
   ]
  },
  {
   "cell_type": "markdown",
   "id": "a59b2272",
   "metadata": {},
   "source": [
    "#####  <font color=\"grey\"> we follow these steps: </font>\n",
    "\n",
    "* ##### <font color=\"grey\"> We will work with the dataframe listings_summary_df and neighbourhoods_geojson_df </font>\n",
    "\n",
    "* ##### <font color=\"grey\"> Import Libraries:</font>\n",
    "<font color=\"grey\"> We imported the necessary libraries, including folium for map generation and geopandas for handling geographic data.</font>\n",
    "\n",
    "* ##### <font color=\"grey\"> Create a Base Map:</font>\n",
    "<font color=\"grey\"> We initialized a folium Map object centered on Athens with a specified starting zoom level and a maximum zoom level to control the zoom functionality of the map.</font>\n",
    "\n",
    "* ##### <font color=\"grey\"> Add GeoJSON Layer:</font>\n",
    "<font color=\"grey\"> we addded a GeoJSON layer to the map to outline the neighborhoods of Athens, which provides a geographic context for the Airbnb listings.</font>\n",
    "\n",
    "* ##### <font color=\"grey\"> Initialize Marker Cluster:</font>\n",
    "<font color=\"grey\"> we created a MarkerCluster object, which groups the markers into clustered layers to manage the display of a large number of points and improve the user experience.</font>\n",
    "\n",
    "* ##### <font color=\"grey\"> Add Listings as Markers:</font>\n",
    "<font color=\"grey\"> we iterated over each row in the listings_summary_df DataFrame and created a marker for each listing. The marker includes a popup with a short description of the listing, including its name, room type, price, and minimum nights.</font>\n",
    "\n",
    "* ##### <font color=\"grey\"> Save the Map to HTML: </font>\n",
    "<font color=\"grey\"> we saved the interactive map to an external HTML file, which can be opened with any web browser. The file path for the output is specified, and the map is saved using the save() method of the folium Map object.</font>\n",
    "\n",
    "* ##### <font color=\"grey\"> Confirmation Message: </font>\n",
    "<font color=\"grey\"> we printed a confirmation message with the file path to indicate where the map has been saved.</font>"
   ]
  },
  {
   "cell_type": "markdown",
   "id": "0ebfdfc1",
   "metadata": {},
   "source": [
    "# "
   ]
  },
  {
   "cell_type": "code",
   "execution_count": 24,
   "id": "4bfd4234",
   "metadata": {},
   "outputs": [
    {
     "name": "stdout",
     "output_type": "stream",
     "text": [
      "id                                    0\n",
      "name                                  0\n",
      "host_id                               0\n",
      "host_name                             0\n",
      "neighbourhood_group               13182\n",
      "neighbourhood                         0\n",
      "latitude                              0\n",
      "longitude                             0\n",
      "room_type                             0\n",
      "price                               366\n",
      "minimum_nights                        0\n",
      "number_of_reviews                     0\n",
      "last_review                        2114\n",
      "reviews_per_month                  2114\n",
      "calculated_host_listings_count        0\n",
      "availability_365                      0\n",
      "number_of_reviews_ltm                 0\n",
      "license                             661\n",
      "dtype: int64\n"
     ]
    }
   ],
   "source": [
    "# Υποθέτοντας ότι έχετε ένα dataframe με όνομα df\n",
    "na_count = listings_summary_df.isna().sum()\n",
    "print(na_count)"
   ]
  },
  {
   "cell_type": "code",
   "execution_count": 25,
   "id": "b77903da",
   "metadata": {},
   "outputs": [],
   "source": [
    "# Υπολογισμός της μέσης τιμής της στήλης 'price'\n",
    "mean_price = listings_summary_df['price'].mean()\n",
    "\n",
    "# Rounding the statistics to one decimal place\n",
    "mean_price = mean_price.round(1)\n",
    "\n",
    "# Γέμισμα των NA τιμών με τη μέση τιμή\n",
    "listings_summary_df['price'].fillna(mean_price, inplace=True)"
   ]
  },
  {
   "cell_type": "code",
   "execution_count": 26,
   "id": "ad6c8e0e",
   "metadata": {},
   "outputs": [
    {
     "name": "stdout",
     "output_type": "stream",
     "text": [
      "The map has been saved to: C:\\Users\\eleni\\Analytics Practicum I -louridas\\assignment\\athens_airbnb_listings.html\n"
     ]
    }
   ],
   "source": [
    "import folium\n",
    "from folium.plugins import MarkerCluster\n",
    "import geopandas as gpd\n",
    "\n",
    "\n",
    "#  Create a map centered on Athens\n",
    "map_athens = folium.Map(location=[37.9838, 23.7275], zoom_start=12, max_zoom=15)\n",
    "\n",
    "# Adding GeoJSON to the map\n",
    "folium.GeoJson(\n",
    "    neighbourhoods_geojson_df,\n",
    "    name='geojson'\n",
    ").add_to(map_athens)\n",
    "\n",
    "# Creating the MarkerCluster\n",
    "marker_cluster = MarkerCluster().add_to(map_athens)\n",
    "\n",
    "# Adding Airbnb listings as markers on the map using MarkerCluster\n",
    "for idx, row in listings_summary_df.iterrows():\n",
    "    popup_content = folium.Html(\n",
    "        f\"<b>{row['name']}</b><br>\"\n",
    "        f\"Τύπος: {row['room_type']}<br>\"\n",
    "        f\"Τιμή: {row['price']}<br>\"\n",
    "        f\"Διανυκτερεύσεις: {row['minimum_nights']}\",\n",
    "        script=True\n",
    "    )\n",
    "    popup = folium.Popup(popup_content, max_width=300)\n",
    "    folium.Marker(\n",
    "        location=[row['latitude'], row['longitude']],\n",
    "        popup=popup\n",
    "    ).add_to(marker_cluster)\n",
    "\n",
    "# Define the relative path for the output HTML file\n",
    "output_file_name = 'athens_airbnb_listings.html'\n",
    "output_path = os.path.join(relative_path, output_file_name)\n",
    "\n",
    "# Save the map to the HTML file using the relative path\n",
    "map_athens.save(output_path)\n",
    "\n",
    "print(f\"The map has been saved to: {output_path}\")\n",
    "\n",
    "\n"
   ]
  },
  {
   "cell_type": "markdown",
   "id": "ff34403a",
   "metadata": {},
   "source": [
    "<div class=\"alert-info\">\n",
    "we can see that :The interactive map created using the Folium library provides a comprehensive visualization of Airbnb listings across Athens, highlighting the density and distribution of properties available for rent. From the map, it's evident that listings are concentrated in certain neighborhoods, potentially reflecting areas with higher tourist interest or residential attractiveness.\n",
    "\n",
    "When a user clicks on a listing marker, they receive immediate, valuable information such as the type of room, price, and minimum stay requirements, enhancing the user experience by allowing potential renters to quickly assess the options that fit their criteria. This feature adds an interactive element to the property search, making the map a practical tool for both analysis and operational use.\n",
    "\n",
    "The use of a MarkerCluster is particularly effective in managing the visual clutter that would otherwise result from thousands of individual markers. It improves the map's readability and user-friendliness by grouping listings and only displaying the details as the user zooms in.\n",
    "\n",
    "</div>"
   ]
  }
 ],
 "metadata": {
  "kernelspec": {
   "display_name": "Python 3 (ipykernel)",
   "language": "python",
   "name": "python3"
  },
  "language_info": {
   "codemirror_mode": {
    "name": "ipython",
    "version": 3
   },
   "file_extension": ".py",
   "mimetype": "text/x-python",
   "name": "python",
   "nbconvert_exporter": "python",
   "pygments_lexer": "ipython3",
   "version": "3.11.5"
  }
 },
 "nbformat": 4,
 "nbformat_minor": 5
}
